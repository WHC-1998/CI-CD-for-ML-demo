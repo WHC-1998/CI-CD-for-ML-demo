{
  "nbformat": 4,
  "nbformat_minor": 0,
  "metadata": {
    "colab": {
      "provenance": [],
      "authorship_tag": "ABX9TyOGktuXZ926NwO5CnU3AGsW",
      "include_colab_link": true
    },
    "kernelspec": {
      "name": "python3",
      "display_name": "Python 3"
    },
    "language_info": {
      "name": "python"
    }
  },
  "cells": [
    {
      "cell_type": "markdown",
      "metadata": {
        "id": "view-in-github",
        "colab_type": "text"
      },
      "source": [
        "<a href=\"https://colab.research.google.com/github/WHC-1998/CI-CD-for-ML-demo/blob/main/Monitoring_ML_with_NannyML.ipynb\" target=\"_parent\"><img src=\"https://colab.research.google.com/assets/colab-badge.svg\" alt=\"Open In Colab\"/></a>"
      ]
    },
    {
      "cell_type": "code",
      "execution_count": 76,
      "metadata": {
        "id": "Mcb1SS-hXMwk"
      },
      "outputs": [],
      "source": [
        "!pip install nannyml --quiet"
      ]
    },
    {
      "cell_type": "code",
      "source": [
        "!pip install lightgbm --quiet"
      ],
      "metadata": {
        "id": "tmYObq0FlZ52"
      },
      "execution_count": 77,
      "outputs": []
    },
    {
      "cell_type": "code",
      "source": [
        "import nannyml\n",
        "import numpy as np\n",
        "import pandas as pd\n",
        "import lightgbm\n",
        "from sklearn.metrics import mean_absolute_error"
      ],
      "metadata": {
        "id": "F3XQY54ZXmkB"
      },
      "execution_count": 78,
      "outputs": []
    },
    {
      "cell_type": "code",
      "source": [
        "data = pd.read_csv('green_taxi_dataset.csv')\n",
        "print(data.head())"
      ],
      "metadata": {
        "colab": {
          "base_uri": "https://localhost:8080/"
        },
        "id": "bkdcH8myX8t0",
        "outputId": "65fef6c9-8a25-48e5-b7e6-09c33d8eb247"
      },
      "execution_count": 79,
      "outputs": [
        {
          "output_type": "stream",
          "name": "stdout",
          "text": [
            "  lpep_pickup_datetime  PULocationID  DOLocationID  trip_distance  \\\n",
            "0  2016-12-01 00:00:02            82           129           0.60   \n",
            "1  2016-12-01 00:01:57           255             7           4.53   \n",
            "2  2016-12-01 00:04:17            65           195           1.94   \n",
            "3  2016-12-01 00:06:45            41            41           1.00   \n",
            "4  2016-12-01 00:09:18            74            42           2.02   \n",
            "\n",
            "   fare_amount  tip_amount  pickup_time partition  \n",
            "0          5.0         1.0            0     train  \n",
            "1         17.5         4.7            0     train  \n",
            "2          9.5         0.0            0     train  \n",
            "3          5.5         2.0            0     train  \n",
            "4          8.5         1.0            0     train  \n"
          ]
        }
      ]
    },
    {
      "cell_type": "code",
      "source": [
        "print(data.dtypes)"
      ],
      "metadata": {
        "colab": {
          "base_uri": "https://localhost:8080/"
        },
        "id": "WgECKHz1iBG4",
        "outputId": "1e189a5f-390d-4933-b836-5f7042ed4b4a"
      },
      "execution_count": 80,
      "outputs": [
        {
          "output_type": "stream",
          "name": "stdout",
          "text": [
            "lpep_pickup_datetime     object\n",
            "PULocationID              int64\n",
            "DOLocationID              int64\n",
            "trip_distance           float64\n",
            "fare_amount             float64\n",
            "tip_amount              float64\n",
            "pickup_time               int64\n",
            "partition                object\n",
            "dtype: object\n"
          ]
        }
      ]
    },
    {
      "cell_type": "code",
      "source": [
        "print(data.describe())"
      ],
      "metadata": {
        "colab": {
          "base_uri": "https://localhost:8080/"
        },
        "id": "q5hArEofiMNL",
        "outputId": "57a4596f-c872-40b2-f093-457488815153"
      },
      "execution_count": 81,
      "outputs": [
        {
          "output_type": "stream",
          "name": "stdout",
          "text": [
            "       PULocationID  DOLocationID  trip_distance   fare_amount    tip_amount  \\\n",
            "count  24244.000000  24244.000000   24244.000000  24244.000000  24244.000000   \n",
            "mean     114.508084    133.155585       2.948626     12.803840      2.369033   \n",
            "std       77.978822     77.648204       3.030861     10.589611      2.679303   \n",
            "min        1.000000      1.000000       0.000000      0.000000      0.000000   \n",
            "25%       48.500000     65.000000       1.070000      6.500000      1.060000   \n",
            "50%       89.000000    133.000000       1.930000     10.000000      1.960000   \n",
            "75%      181.000000    197.000000       3.720000     15.500000      3.000000   \n",
            "max      265.000000    265.000000      73.740000    499.000000     93.970000   \n",
            "\n",
            "        pickup_time  \n",
            "count  24244.000000  \n",
            "mean      13.907853  \n",
            "std        6.637918  \n",
            "min        0.000000  \n",
            "25%        9.000000  \n",
            "50%       15.000000  \n",
            "75%       19.000000  \n",
            "max       23.000000  \n"
          ]
        }
      ]
    },
    {
      "cell_type": "code",
      "source": [
        "data['lpep_pickup_datetime'] = pd.to_datetime(data['lpep_pickup_datetime'])"
      ],
      "metadata": {
        "id": "4cVDr-nricZh"
      },
      "execution_count": 82,
      "outputs": []
    },
    {
      "cell_type": "markdown",
      "source": [
        "**Create data partition**"
      ],
      "metadata": {
        "id": "cZBAlDwCYDq7"
      }
    },
    {
      "cell_type": "code",
      "source": [
        "data['partition'] = pd.cut(data['lpep_pickup_datetime'],\n",
        "                        bins = [pd.to_datetime('2016-12-01'), pd.to_datetime('2016-12-08'),\n",
        "                        pd.to_datetime('2016-12-16'), pd.to_datetime('2017-01-01')],\n",
        "                           right = False, labels = ['train','test','prod'])"
      ],
      "metadata": {
        "id": "N54A3VZ-hNyG"
      },
      "execution_count": 83,
      "outputs": []
    },
    {
      "cell_type": "markdown",
      "source": [
        "**Target and features column names**"
      ],
      "metadata": {
        "id": "dq4EjsqFj2nD"
      }
    },
    {
      "cell_type": "code",
      "source": [
        "target = 'tip_amount'\n",
        "features = ['PULocationID','DOLocationID','trip_distance','pickup_time']"
      ],
      "metadata": {
        "id": "aXpZ9q8Civ4Q"
      },
      "execution_count": 84,
      "outputs": []
    },
    {
      "cell_type": "markdown",
      "source": [
        "**Training set**"
      ],
      "metadata": {
        "id": "7kLC2DERkNqE"
      }
    },
    {
      "cell_type": "code",
      "source": [
        "X_train = data.loc[data['partition'] == 'train', features]\n",
        "y_train = data.loc[data['partition'] == 'train', target]"
      ],
      "metadata": {
        "id": "fJ4hyJC3ivGm"
      },
      "execution_count": 85,
      "outputs": []
    },
    {
      "cell_type": "markdown",
      "source": [
        "**Test set (later reference set)**"
      ],
      "metadata": {
        "id": "xH8fF24zkozH"
      }
    },
    {
      "cell_type": "code",
      "source": [
        "X_test = data.loc[data['partition'] == 'test', features]\n",
        "y_test = data.loc[data['partition'] == 'test', target]"
      ],
      "metadata": {
        "id": "-m0oAqbmktZS"
      },
      "execution_count": 86,
      "outputs": []
    },
    {
      "cell_type": "markdown",
      "source": [
        "**Production set (later analysis set)**"
      ],
      "metadata": {
        "id": "GnDPUke1k3qC"
      }
    },
    {
      "cell_type": "code",
      "source": [
        "X_prod = data.loc[data['partition'] == 'prod', features]\n",
        "y_prod = data.loc[data['partition'] == 'prod', target]"
      ],
      "metadata": {
        "id": "GUMq9wNvk71m"
      },
      "execution_count": 87,
      "outputs": []
    },
    {
      "cell_type": "markdown",
      "source": [
        "**Train the model**"
      ],
      "metadata": {
        "id": "-ye0JGURlFW_"
      }
    },
    {
      "cell_type": "code",
      "source": [
        "model = lightgbm.LGBMRegressor(random_state =42)\n",
        "model.fit(X_train, y_train)"
      ],
      "metadata": {
        "colab": {
          "base_uri": "https://localhost:8080/",
          "height": 74
        },
        "id": "txo3VgJplIlS",
        "outputId": "111d3792-5b69-4624-8dfb-c6793d96996a"
      },
      "execution_count": 88,
      "outputs": [
        {
          "output_type": "execute_result",
          "data": {
            "text/plain": [
              "LGBMRegressor(random_state=42)"
            ],
            "text/html": [
              "<style>#sk-container-id-3 {color: black;background-color: white;}#sk-container-id-3 pre{padding: 0;}#sk-container-id-3 div.sk-toggleable {background-color: white;}#sk-container-id-3 label.sk-toggleable__label {cursor: pointer;display: block;width: 100%;margin-bottom: 0;padding: 0.3em;box-sizing: border-box;text-align: center;}#sk-container-id-3 label.sk-toggleable__label-arrow:before {content: \"▸\";float: left;margin-right: 0.25em;color: #696969;}#sk-container-id-3 label.sk-toggleable__label-arrow:hover:before {color: black;}#sk-container-id-3 div.sk-estimator:hover label.sk-toggleable__label-arrow:before {color: black;}#sk-container-id-3 div.sk-toggleable__content {max-height: 0;max-width: 0;overflow: hidden;text-align: left;background-color: #f0f8ff;}#sk-container-id-3 div.sk-toggleable__content pre {margin: 0.2em;color: black;border-radius: 0.25em;background-color: #f0f8ff;}#sk-container-id-3 input.sk-toggleable__control:checked~div.sk-toggleable__content {max-height: 200px;max-width: 100%;overflow: auto;}#sk-container-id-3 input.sk-toggleable__control:checked~label.sk-toggleable__label-arrow:before {content: \"▾\";}#sk-container-id-3 div.sk-estimator input.sk-toggleable__control:checked~label.sk-toggleable__label {background-color: #d4ebff;}#sk-container-id-3 div.sk-label input.sk-toggleable__control:checked~label.sk-toggleable__label {background-color: #d4ebff;}#sk-container-id-3 input.sk-hidden--visually {border: 0;clip: rect(1px 1px 1px 1px);clip: rect(1px, 1px, 1px, 1px);height: 1px;margin: -1px;overflow: hidden;padding: 0;position: absolute;width: 1px;}#sk-container-id-3 div.sk-estimator {font-family: monospace;background-color: #f0f8ff;border: 1px dotted black;border-radius: 0.25em;box-sizing: border-box;margin-bottom: 0.5em;}#sk-container-id-3 div.sk-estimator:hover {background-color: #d4ebff;}#sk-container-id-3 div.sk-parallel-item::after {content: \"\";width: 100%;border-bottom: 1px solid gray;flex-grow: 1;}#sk-container-id-3 div.sk-label:hover label.sk-toggleable__label {background-color: #d4ebff;}#sk-container-id-3 div.sk-serial::before {content: \"\";position: absolute;border-left: 1px solid gray;box-sizing: border-box;top: 0;bottom: 0;left: 50%;z-index: 0;}#sk-container-id-3 div.sk-serial {display: flex;flex-direction: column;align-items: center;background-color: white;padding-right: 0.2em;padding-left: 0.2em;position: relative;}#sk-container-id-3 div.sk-item {position: relative;z-index: 1;}#sk-container-id-3 div.sk-parallel {display: flex;align-items: stretch;justify-content: center;background-color: white;position: relative;}#sk-container-id-3 div.sk-item::before, #sk-container-id-3 div.sk-parallel-item::before {content: \"\";position: absolute;border-left: 1px solid gray;box-sizing: border-box;top: 0;bottom: 0;left: 50%;z-index: -1;}#sk-container-id-3 div.sk-parallel-item {display: flex;flex-direction: column;z-index: 1;position: relative;background-color: white;}#sk-container-id-3 div.sk-parallel-item:first-child::after {align-self: flex-end;width: 50%;}#sk-container-id-3 div.sk-parallel-item:last-child::after {align-self: flex-start;width: 50%;}#sk-container-id-3 div.sk-parallel-item:only-child::after {width: 0;}#sk-container-id-3 div.sk-dashed-wrapped {border: 1px dashed gray;margin: 0 0.4em 0.5em 0.4em;box-sizing: border-box;padding-bottom: 0.4em;background-color: white;}#sk-container-id-3 div.sk-label label {font-family: monospace;font-weight: bold;display: inline-block;line-height: 1.2em;}#sk-container-id-3 div.sk-label-container {text-align: center;}#sk-container-id-3 div.sk-container {/* jupyter's `normalize.less` sets `[hidden] { display: none; }` but bootstrap.min.css set `[hidden] { display: none !important; }` so we also need the `!important` here to be able to override the default hidden behavior on the sphinx rendered scikit-learn.org. See: https://github.com/scikit-learn/scikit-learn/issues/21755 */display: inline-block !important;position: relative;}#sk-container-id-3 div.sk-text-repr-fallback {display: none;}</style><div id=\"sk-container-id-3\" class=\"sk-top-container\"><div class=\"sk-text-repr-fallback\"><pre>LGBMRegressor(random_state=42)</pre><b>In a Jupyter environment, please rerun this cell to show the HTML representation or trust the notebook. <br />On GitHub, the HTML representation is unable to render, please try loading this page with nbviewer.org.</b></div><div class=\"sk-container\" hidden><div class=\"sk-item\"><div class=\"sk-estimator sk-toggleable\"><input class=\"sk-toggleable__control sk-hidden--visually\" id=\"sk-estimator-id-3\" type=\"checkbox\" checked><label for=\"sk-estimator-id-3\" class=\"sk-toggleable__label sk-toggleable__label-arrow\">LGBMRegressor</label><div class=\"sk-toggleable__content\"><pre>LGBMRegressor(random_state=42)</pre></div></div></div></div></div>"
            ]
          },
          "metadata": {},
          "execution_count": 88
        }
      ]
    },
    {
      "cell_type": "markdown",
      "source": [
        "**Make predictions**"
      ],
      "metadata": {
        "id": "4TBb9VeJlzF0"
      }
    },
    {
      "cell_type": "code",
      "source": [
        "y_pred_train = model.predict(X_train)\n",
        "y_pred_test = model.predict(X_test)"
      ],
      "metadata": {
        "id": "0AIMQnUnl1Xj"
      },
      "execution_count": 89,
      "outputs": []
    },
    {
      "cell_type": "markdown",
      "source": [
        "**Evaluate the model on training and test set**"
      ],
      "metadata": {
        "id": "bFvcdkkBmA1N"
      }
    },
    {
      "cell_type": "code",
      "source": [
        "mae_train = mean_absolute_error(y_train, y_pred_train)\n",
        "mae_test = mean_absolute_error(y_test, y_pred_test)"
      ],
      "metadata": {
        "id": "X659z2RWmFjy"
      },
      "execution_count": 90,
      "outputs": []
    },
    {
      "cell_type": "markdown",
      "source": [
        "**Deploy the model to production**"
      ],
      "metadata": {
        "id": "avzGomgzmdtN"
      }
    },
    {
      "cell_type": "code",
      "source": [
        "y_pred_prod = model.predict(X_prod)"
      ],
      "metadata": {
        "id": "WHSEAvSgmha_"
      },
      "execution_count": 91,
      "outputs": []
    },
    {
      "cell_type": "markdown",
      "source": [
        "**Create reference set**"
      ],
      "metadata": {
        "id": "A3-49wr2mpl3"
      }
    },
    {
      "cell_type": "code",
      "source": [
        "reference = X_test.copy() # Test set features\n",
        "reference['y_pred'] = y_pred_test # Predctions\n",
        "reference['tip_amount'] = y_test # Labels\n",
        "reference = reference.join(data['lpep_pickup_datetime']) # Timestamp"
      ],
      "metadata": {
        "id": "vbeJobKmmtBu"
      },
      "execution_count": 92,
      "outputs": []
    },
    {
      "cell_type": "markdown",
      "source": [
        "**Create analysis set**"
      ],
      "metadata": {
        "id": "x9Iz6k_onJEO"
      }
    },
    {
      "cell_type": "code",
      "source": [
        "analysis = X_prod.copy() # Production features\n",
        "analysis['y_pred'] = y_pred_prod # Predictions\n",
        "analysis['tip_amount'] = y_prod\n",
        "analysis = analysis.join(data['lpep_pickup_datetime']) # Timestamp"
      ],
      "metadata": {
        "id": "pNdTVkn90KDq"
      },
      "execution_count": 100,
      "outputs": []
    },
    {
      "cell_type": "markdown",
      "source": [
        "**Initialize the Direct Loss Estimation (DLE) algorithm**"
      ],
      "metadata": {
        "id": "oP0YPpNb0hVS"
      }
    },
    {
      "cell_type": "code",
      "source": [
        "estimator_dle = nannyml.DLE(y_true = 'tip_amount', y_pred = 'y_pred', metrics = ['rmse'],\n",
        "                        timestamp_column_name = 'lpep_pickup_datetime', chunk_period = 'd',\n",
        "                        feature_column_names = features, tune_hyperparameters = False)"
      ],
      "metadata": {
        "id": "3AhgK-wZ0qd4"
      },
      "execution_count": 94,
      "outputs": []
    },
    {
      "cell_type": "markdown",
      "source": [
        "**Fit the algorithm**"
      ],
      "metadata": {
        "id": "LIHTvl9c1D84"
      }
    },
    {
      "cell_type": "code",
      "source": [
        "estimator_dle.fit(reference)\n",
        "results_estimator_dle = estimator_dle.estimate(analysis)"
      ],
      "metadata": {
        "colab": {
          "base_uri": "https://localhost:8080/"
        },
        "id": "XiEwBsxY1HAV",
        "outputId": "689a1947-a4b2-4888-a1c9-961ab024345e"
      },
      "execution_count": 95,
      "outputs": [
        {
          "output_type": "stream",
          "name": "stderr",
          "text": [
            "WARNING:nannyml.performance_estimation.direct_loss_estimation.metrics:RMSE lower threshold value -0.007715092104498389 overridden by lower threshold value limit 0.0\n",
            "/usr/local/lib/python3.10/dist-packages/lightgbm/basic.py:2065: UserWarning:\n",
            "\n",
            "Using categorical_feature in Dataset.\n",
            "\n"
          ]
        }
      ]
    },
    {
      "cell_type": "code",
      "source": [
        "results_estimator_dle.plot().show()"
      ],
      "metadata": {
        "colab": {
          "base_uri": "https://localhost:8080/",
          "height": 517
        },
        "id": "m0BWbmx32Mgq",
        "outputId": "c9ad2e6a-799e-42ba-b4ba-ca6c1c49ad54"
      },
      "execution_count": 96,
      "outputs": [
        {
          "output_type": "display_data",
          "data": {
            "text/html": [
              "<html>\n",
              "<head><meta charset=\"utf-8\" /></head>\n",
              "<body>\n",
              "    <div>            <script src=\"https://cdnjs.cloudflare.com/ajax/libs/mathjax/2.7.5/MathJax.js?config=TeX-AMS-MML_SVG\"></script><script type=\"text/javascript\">if (window.MathJax && window.MathJax.Hub && window.MathJax.Hub.Config) {window.MathJax.Hub.Config({SVG: {font: \"STIX-Web\"}});}</script>                <script type=\"text/javascript\">window.PlotlyConfig = {MathJaxConfig: 'local'};</script>\n",
              "        <script charset=\"utf-8\" src=\"https://cdn.plot.ly/plotly-2.24.1.min.js\"></script>                <div id=\"b4c078ed-863b-4f47-a528-ab3550b0584c\" class=\"plotly-graph-div\" style=\"height:500.0px; width:100%;\"></div>            <script type=\"text/javascript\">                                    window.PLOTLYENV=window.PLOTLYENV || {};                                    if (document.getElementById(\"b4c078ed-863b-4f47-a528-ab3550b0584c\")) {                    Plotly.newPlot(                        \"b4c078ed-863b-4f47-a528-ab3550b0584c\",                        [{\"hoverinfo\":\"skip\",\"legendgroup\":\"metric_reference\",\"line\":{\"color\":\"#3b0280\",\"dash\":\"dash\",\"shape\":\"hv\",\"width\":2},\"mode\":\"lines\",\"name\":\"Metric\",\"showlegend\":true,\"x\":[\"2016-12-08T00:00:00\",\"2016-12-09T00:00:00\",\"2016-12-10T00:00:00\",\"2016-12-11T00:00:00\",\"2016-12-12T00:00:00\",\"2016-12-13T00:00:00\",\"2016-12-14T00:00:00\",\"2016-12-15T00:00:00\",\"2016-12-15T23:59:59.999999999\"],\"y\":[2.761736426028118,2.765048301884522,2.7270429285408375,3.4003982573225957,3.179698231159692,3.37086848177936,3.4801999754354185,2.8843343670845782,2.8843343670845782],\"type\":\"scatter\",\"xaxis\":\"x\",\"yaxis\":\"y\"},{\"customdata\":[[\"Estimated \\u003cb\\u003eRMSE\\u003c\\u002fb\\u003e\",\"\\u003cb style=\\\"color:#3b0280;line-height:60px\\\"\\u003eReference\\u003c\\u002fb\\u003e\",\"\",\"2016-12-08\",\"From \\u003cb\\u003eDec-08-2016\\u003c\\u002fb\\u003e to \\u003cb\\u003eDec-08-2016\\u003c\\u002fb\\u003e\",2.7617,2.6441],[\"Estimated \\u003cb\\u003eRMSE\\u003c\\u002fb\\u003e\",\"\\u003cb style=\\\"color:#3b0280;line-height:60px\\\"\\u003eReference\\u003c\\u002fb\\u003e\",\"\",\"2016-12-09\",\"From \\u003cb\\u003eDec-09-2016\\u003c\\u002fb\\u003e to \\u003cb\\u003eDec-09-2016\\u003c\\u002fb\\u003e\",2.765,2.4216],[\"Estimated \\u003cb\\u003eRMSE\\u003c\\u002fb\\u003e\",\"\\u003cb style=\\\"color:#3b0280;line-height:60px\\\"\\u003eReference\\u003c\\u002fb\\u003e\",\"\",\"2016-12-10\",\"From \\u003cb\\u003eDec-10-2016\\u003c\\u002fb\\u003e to \\u003cb\\u003eDec-10-2016\\u003c\\u002fb\\u003e\",2.727,2.2865],[\"Estimated \\u003cb\\u003eRMSE\\u003c\\u002fb\\u003e\",\"\\u003cb style=\\\"color:#3b0280;line-height:60px\\\"\\u003eReference\\u003c\\u002fb\\u003e\",\"\",\"2016-12-11\",\"From \\u003cb\\u003eDec-11-2016\\u003c\\u002fb\\u003e to \\u003cb\\u003eDec-11-2016\\u003c\\u002fb\\u003e\",3.4004,2.6272],[\"Estimated \\u003cb\\u003eRMSE\\u003c\\u002fb\\u003e\",\"\\u003cb style=\\\"color:#3b0280;line-height:60px\\\"\\u003eReference\\u003c\\u002fb\\u003e\",\"\",\"2016-12-12\",\"From \\u003cb\\u003eDec-12-2016\\u003c\\u002fb\\u003e to \\u003cb\\u003eDec-12-2016\\u003c\\u002fb\\u003e\",3.1797,2.9082],[\"Estimated \\u003cb\\u003eRMSE\\u003c\\u002fb\\u003e\",\"\\u003cb style=\\\"color:#3b0280;line-height:60px\\\"\\u003eReference\\u003c\\u002fb\\u003e\",\"\",\"2016-12-13\",\"From \\u003cb\\u003eDec-13-2016\\u003c\\u002fb\\u003e to \\u003cb\\u003eDec-13-2016\\u003c\\u002fb\\u003e\",3.3709,2.8538],[\"Estimated \\u003cb\\u003eRMSE\\u003c\\u002fb\\u003e\",\"\\u003cb style=\\\"color:#3b0280;line-height:60px\\\"\\u003eReference\\u003c\\u002fb\\u003e\",\"\",\"2016-12-14\",\"From \\u003cb\\u003eDec-14-2016\\u003c\\u002fb\\u003e to \\u003cb\\u003eDec-14-2016\\u003c\\u002fb\\u003e\",3.4802,2.6922],[\"Estimated \\u003cb\\u003eRMSE\\u003c\\u002fb\\u003e\",\"\\u003cb style=\\\"color:#3b0280;line-height:60px\\\"\\u003eReference\\u003c\\u002fb\\u003e\",\"\",\"2016-12-15\",\"From \\u003cb\\u003eDec-15-2016\\u003c\\u002fb\\u003e to \\u003cb\\u003eDec-15-2016\\u003c\\u002fb\\u003e\",2.8843,2.4435]],\"hovertemplate\":\"%{customdata[1]} &nbsp; &nbsp; %{customdata[2]} \\u003cbr \\u002f\\u003eChunk: \\u003cb\\u003e%{customdata[3]}\\u003c\\u002fb\\u003e &nbsp; &nbsp; %{customdata[4]} \\u003cbr \\u002f\\u003e%{customdata[0]}: \\u003cb\\u003e%{customdata[5]}\\u003c\\u002fb\\u003e\\u003cbr \\u002f\\u003eConfidence band: +\\u002f- \\u003cb\\u003e%{customdata[6]}\\u003c\\u002fb\\u003e\\u003cbr \\u002f\\u003e\\u003cextra\\u003e\\u003c\\u002fextra\\u003e\",\"legendgroup\":\"metric_reference\",\"line\":{\"dash\":\"dash\"},\"marker\":{\"color\":\"#3b0280\",\"size\":5,\"symbol\":\"circle\"},\"mode\":\"markers\",\"name\":\"Metric\",\"showlegend\":false,\"x\":[\"2016-12-08T12:00:00\",\"2016-12-09T12:00:00\",\"2016-12-10T12:00:00\",\"2016-12-11T12:00:00\",\"2016-12-12T12:00:00\",\"2016-12-13T12:00:00\",\"2016-12-14T12:00:00\",\"2016-12-15T11:59:59.999999999\"],\"y\":[2.761736426028118,2.765048301884522,2.7270429285408375,3.4003982573225957,3.179698231159692,3.37086848177936,3.4801999754354185,2.8843343670845782,2.8843343670845782],\"type\":\"scatter\",\"xaxis\":\"x\",\"yaxis\":\"y\"},{\"hoverinfo\":\"skip\",\"legendgroup\":\"metric_analysis\",\"line\":{\"color\":\"#3b0280\",\"dash\":\"dash\",\"shape\":\"hv\",\"width\":2},\"mode\":\"lines\",\"name\":\"Metric\",\"showlegend\":false,\"x\":[\"2016-12-16T00:00:00\",\"2016-12-17T00:00:00\",\"2016-12-18T00:00:00\",\"2016-12-19T00:00:00\",\"2016-12-20T00:00:00\",\"2016-12-21T00:00:00\",\"2016-12-22T00:00:00\",\"2016-12-23T00:00:00\",\"2016-12-24T00:00:00\",\"2016-12-25T00:00:00\",\"2016-12-26T00:00:00\",\"2016-12-27T00:00:00\",\"2016-12-28T00:00:00\",\"2016-12-29T00:00:00\",\"2016-12-30T00:00:00\",\"2016-12-31T00:00:00\",\"2016-12-31T23:59:59.999999999\"],\"y\":[3.239112119184896,3.1144100468017624,2.9861952369768576,2.9920823359198003,3.1508363800087142,2.9950629400539195,3.398311888035182,3.573231895354922,3.675360599771772,3.248150441076129,3.1033522040448602,3.8750507080042973,3.7806208194466118,2.9349377769389107,3.03193724076072,2.7463353647800806,2.7463353647800806],\"type\":\"scatter\",\"xaxis\":\"x\",\"yaxis\":\"y\"},{\"customdata\":[[\"Estimated \\u003cb\\u003eRMSE\\u003c\\u002fb\\u003e\",\"\\u003cb style=\\\"color:#3b0280;line-height:60px\\\"\\u003eAnalysis\\u003c\\u002fb\\u003e\",\"\",\"2016-12-16\",\"From \\u003cb\\u003eDec-16-2016\\u003c\\u002fb\\u003e to \\u003cb\\u003eDec-16-2016\\u003c\\u002fb\\u003e\",3.2391,2.343],[\"Estimated \\u003cb\\u003eRMSE\\u003c\\u002fb\\u003e\",\"\\u003cb style=\\\"color:#3b0280;line-height:60px\\\"\\u003eAnalysis\\u003c\\u002fb\\u003e\",\"\",\"2016-12-17\",\"From \\u003cb\\u003eDec-17-2016\\u003c\\u002fb\\u003e to \\u003cb\\u003eDec-17-2016\\u003c\\u002fb\\u003e\",3.1144,2.4039],[\"Estimated \\u003cb\\u003eRMSE\\u003c\\u002fb\\u003e\",\"\\u003cb style=\\\"color:#3b0280;line-height:60px\\\"\\u003eAnalysis\\u003c\\u002fb\\u003e\",\"\",\"2016-12-18\",\"From \\u003cb\\u003eDec-18-2016\\u003c\\u002fb\\u003e to \\u003cb\\u003eDec-18-2016\\u003c\\u002fb\\u003e\",2.9862,2.6075],[\"Estimated \\u003cb\\u003eRMSE\\u003c\\u002fb\\u003e\",\"\\u003cb style=\\\"color:#3b0280;line-height:60px\\\"\\u003eAnalysis\\u003c\\u002fb\\u003e\",\"\",\"2016-12-19\",\"From \\u003cb\\u003eDec-19-2016\\u003c\\u002fb\\u003e to \\u003cb\\u003eDec-19-2016\\u003c\\u002fb\\u003e\",2.9921,2.8421],[\"Estimated \\u003cb\\u003eRMSE\\u003c\\u002fb\\u003e\",\"\\u003cb style=\\\"color:#3b0280;line-height:60px\\\"\\u003eAnalysis\\u003c\\u002fb\\u003e\",\"\",\"2016-12-20\",\"From \\u003cb\\u003eDec-20-2016\\u003c\\u002fb\\u003e to \\u003cb\\u003eDec-20-2016\\u003c\\u002fb\\u003e\",3.1508,2.7912],[\"Estimated \\u003cb\\u003eRMSE\\u003c\\u002fb\\u003e\",\"\\u003cb style=\\\"color:#3b0280;line-height:60px\\\"\\u003eAnalysis\\u003c\\u002fb\\u003e\",\"\",\"2016-12-21\",\"From \\u003cb\\u003eDec-21-2016\\u003c\\u002fb\\u003e to \\u003cb\\u003eDec-21-2016\\u003c\\u002fb\\u003e\",2.9951,2.7623],[\"Estimated \\u003cb\\u003eRMSE\\u003c\\u002fb\\u003e\",\"\\u003cb style=\\\"color:#3b0280;line-height:60px\\\"\\u003eAnalysis\\u003c\\u002fb\\u003e\",\"\",\"2016-12-22\",\"From \\u003cb\\u003eDec-22-2016\\u003c\\u002fb\\u003e to \\u003cb\\u003eDec-22-2016\\u003c\\u002fb\\u003e\",3.3983,2.7535],[\"Estimated \\u003cb\\u003eRMSE\\u003c\\u002fb\\u003e\",\"\\u003cb style=\\\"color:#3b0280;line-height:60px\\\"\\u003eAnalysis\\u003c\\u002fb\\u003e\",\"\",\"2016-12-23\",\"From \\u003cb\\u003eDec-23-2016\\u003c\\u002fb\\u003e to \\u003cb\\u003eDec-23-2016\\u003c\\u002fb\\u003e\",3.5732,2.7803],[\"Estimated \\u003cb\\u003eRMSE\\u003c\\u002fb\\u003e\",\"\\u003cb style=\\\"color:#3b0280;line-height:60px\\\"\\u003eAnalysis\\u003c\\u002fb\\u003e\",\"\",\"2016-12-24\",\"From \\u003cb\\u003eDec-24-2016\\u003c\\u002fb\\u003e to \\u003cb\\u003eDec-24-2016\\u003c\\u002fb\\u003e\",3.6754,3.1099],[\"Estimated \\u003cb\\u003eRMSE\\u003c\\u002fb\\u003e\",\"\\u003cb style=\\\"color:#3b0280;line-height:60px\\\"\\u003eAnalysis\\u003c\\u002fb\\u003e\",\"\",\"2016-12-25\",\"From \\u003cb\\u003eDec-25-2016\\u003c\\u002fb\\u003e to \\u003cb\\u003eDec-25-2016\\u003c\\u002fb\\u003e\",3.2482,4.003],[\"Estimated \\u003cb\\u003eRMSE\\u003c\\u002fb\\u003e\",\"\\u003cb style=\\\"color:#3b0280;line-height:60px\\\"\\u003eAnalysis\\u003c\\u002fb\\u003e\",\"\",\"2016-12-26\",\"From \\u003cb\\u003eDec-26-2016\\u003c\\u002fb\\u003e to \\u003cb\\u003eDec-26-2016\\u003c\\u002fb\\u003e\",3.1034,3.9141],[\"Estimated \\u003cb\\u003eRMSE\\u003c\\u002fb\\u003e\",\"\\u003cb style=\\\"color:#3b0280;line-height:60px\\\"\\u003eAnalysis\\u003c\\u002fb\\u003e\",\"\",\"2016-12-27\",\"From \\u003cb\\u003eDec-27-2016\\u003c\\u002fb\\u003e to \\u003cb\\u003eDec-27-2016\\u003c\\u002fb\\u003e\",3.8751,3.594],[\"Estimated \\u003cb\\u003eRMSE\\u003c\\u002fb\\u003e\",\"\\u003cb style=\\\"color:#3b0280;line-height:60px\\\"\\u003eAnalysis\\u003c\\u002fb\\u003e\",\"\",\"2016-12-28\",\"From \\u003cb\\u003eDec-28-2016\\u003c\\u002fb\\u003e to \\u003cb\\u003eDec-28-2016\\u003c\\u002fb\\u003e\",3.7806,3.2892],[\"Estimated \\u003cb\\u003eRMSE\\u003c\\u002fb\\u003e\",\"\\u003cb style=\\\"color:#3b0280;line-height:60px\\\"\\u003eAnalysis\\u003c\\u002fb\\u003e\",\"\",\"2016-12-29\",\"From \\u003cb\\u003eDec-29-2016\\u003c\\u002fb\\u003e to \\u003cb\\u003eDec-29-2016\\u003c\\u002fb\\u003e\",2.9349,3.1835],[\"Estimated \\u003cb\\u003eRMSE\\u003c\\u002fb\\u003e\",\"\\u003cb style=\\\"color:#3b0280;line-height:60px\\\"\\u003eAnalysis\\u003c\\u002fb\\u003e\",\"\",\"2016-12-30\",\"From \\u003cb\\u003eDec-30-2016\\u003c\\u002fb\\u003e to \\u003cb\\u003eDec-30-2016\\u003c\\u002fb\\u003e\",3.0319,2.9355],[\"Estimated \\u003cb\\u003eRMSE\\u003c\\u002fb\\u003e\",\"\\u003cb style=\\\"color:#3b0280;line-height:60px\\\"\\u003eAnalysis\\u003c\\u002fb\\u003e\",\"\",\"2016-12-31\",\"From \\u003cb\\u003eDec-31-2016\\u003c\\u002fb\\u003e to \\u003cb\\u003eDec-31-2016\\u003c\\u002fb\\u003e\",2.7463,2.7155]],\"hovertemplate\":\"%{customdata[1]} &nbsp; &nbsp; %{customdata[2]} \\u003cbr \\u002f\\u003eChunk: \\u003cb\\u003e%{customdata[3]}\\u003c\\u002fb\\u003e &nbsp; &nbsp; %{customdata[4]} \\u003cbr \\u002f\\u003e%{customdata[0]}: \\u003cb\\u003e%{customdata[5]}\\u003c\\u002fb\\u003e\\u003cbr \\u002f\\u003eConfidence band: +\\u002f- \\u003cb\\u003e%{customdata[6]}\\u003c\\u002fb\\u003e\\u003cbr \\u002f\\u003e\\u003cextra\\u003e\\u003c\\u002fextra\\u003e\",\"legendgroup\":\"metric_analysis\",\"line\":{\"dash\":\"dash\"},\"marker\":{\"color\":\"#3b0280\",\"size\":5,\"symbol\":\"circle\"},\"mode\":\"markers\",\"name\":\"Metric\",\"showlegend\":false,\"x\":[\"2016-12-16T12:00:00\",\"2016-12-17T12:00:00\",\"2016-12-18T12:00:00\",\"2016-12-19T12:00:00\",\"2016-12-20T12:00:00\",\"2016-12-21T12:00:00\",\"2016-12-22T12:00:00\",\"2016-12-23T12:00:00\",\"2016-12-24T12:00:00\",\"2016-12-25T12:00:00\",\"2016-12-26T12:00:00\",\"2016-12-27T12:00:00\",\"2016-12-28T12:00:00\",\"2016-12-29T12:00:00\",\"2016-12-30T12:00:00\",\"2016-12-31T11:59:59.999999999\"],\"y\":[3.239112119184896,3.1144100468017624,2.9861952369768576,2.9920823359198003,3.1508363800087142,2.9950629400539195,3.398311888035182,3.573231895354922,3.675360599771772,3.248150441076129,3.1033522040448602,3.8750507080042973,3.7806208194466118,2.9349377769389107,3.03193724076072,2.7463353647800806,2.7463353647800806],\"type\":\"scatter\",\"xaxis\":\"x\",\"yaxis\":\"y\"},{\"hoverinfo\":\"skip\",\"legendgroup\":\"alert\",\"marker\":{\"color\":\"#DD4040\",\"size\":8,\"symbol\":\"diamond\"},\"mode\":\"markers\",\"name\":\"Alert\",\"showlegend\":true,\"x\":[],\"y\":[],\"type\":\"scatter\",\"xaxis\":\"x\",\"yaxis\":\"y\"},{\"hoverinfo\":\"skip\",\"legendgroup\":\"thresh\",\"line\":{\"color\":\"#DD4040\",\"dash\":\"dash\",\"width\":2},\"mode\":\"lines\",\"name\":\"Threshold\",\"showlegend\":true,\"x\":[\"2016-12-08T00:00:00\",\"2016-12-09T00:00:00\",\"2016-12-10T00:00:00\",\"2016-12-11T00:00:00\",\"2016-12-12T00:00:00\",\"2016-12-13T00:00:00\",\"2016-12-14T00:00:00\",\"2016-12-15T00:00:00\",\"2016-12-15T23:59:59.999999999\"],\"y\":[5.327542710019755,5.327542710019755,5.327542710019755,5.327542710019755,5.327542710019755,5.327542710019755,5.327542710019755,5.327542710019755,5.327542710019755],\"type\":\"scatter\",\"xaxis\":\"x\",\"yaxis\":\"y\"},{\"hoverinfo\":\"skip\",\"legendgroup\":\"thresh\",\"line\":{\"color\":\"#DD4040\",\"dash\":\"dash\",\"width\":2},\"mode\":\"lines\",\"name\":\"Threshold\",\"showlegend\":false,\"x\":[\"2016-12-08T00:00:00\",\"2016-12-09T00:00:00\",\"2016-12-10T00:00:00\",\"2016-12-11T00:00:00\",\"2016-12-12T00:00:00\",\"2016-12-13T00:00:00\",\"2016-12-14T00:00:00\",\"2016-12-15T00:00:00\",\"2016-12-15T23:59:59.999999999\"],\"y\":[0.0,0.0,0.0,0.0,0.0,0.0,0.0,0.0,0.0],\"type\":\"scatter\",\"xaxis\":\"x\",\"yaxis\":\"y\"},{\"hoverinfo\":\"skip\",\"legendgroup\":\"thresh\",\"line\":{\"color\":\"#DD4040\",\"dash\":\"dash\",\"width\":2},\"mode\":\"lines\",\"name\":\"Threshold\",\"showlegend\":false,\"x\":[\"2016-12-16T00:00:00\",\"2016-12-17T00:00:00\",\"2016-12-18T00:00:00\",\"2016-12-19T00:00:00\",\"2016-12-20T00:00:00\",\"2016-12-21T00:00:00\",\"2016-12-22T00:00:00\",\"2016-12-23T00:00:00\",\"2016-12-24T00:00:00\",\"2016-12-25T00:00:00\",\"2016-12-26T00:00:00\",\"2016-12-27T00:00:00\",\"2016-12-28T00:00:00\",\"2016-12-29T00:00:00\",\"2016-12-30T00:00:00\",\"2016-12-31T00:00:00\",\"2016-12-31T23:59:59.999999999\"],\"y\":[5.327542710019755,5.327542710019755,5.327542710019755,5.327542710019755,5.327542710019755,5.327542710019755,5.327542710019755,5.327542710019755,5.327542710019755,5.327542710019755,5.327542710019755,5.327542710019755,5.327542710019755,5.327542710019755,5.327542710019755,5.327542710019755,5.327542710019755],\"type\":\"scatter\",\"xaxis\":\"x\",\"yaxis\":\"y\"},{\"hoverinfo\":\"skip\",\"legendgroup\":\"thresh\",\"line\":{\"color\":\"#DD4040\",\"dash\":\"dash\",\"width\":2},\"mode\":\"lines\",\"name\":\"Threshold\",\"showlegend\":false,\"x\":[\"2016-12-16T00:00:00\",\"2016-12-17T00:00:00\",\"2016-12-18T00:00:00\",\"2016-12-19T00:00:00\",\"2016-12-20T00:00:00\",\"2016-12-21T00:00:00\",\"2016-12-22T00:00:00\",\"2016-12-23T00:00:00\",\"2016-12-24T00:00:00\",\"2016-12-25T00:00:00\",\"2016-12-26T00:00:00\",\"2016-12-27T00:00:00\",\"2016-12-28T00:00:00\",\"2016-12-29T00:00:00\",\"2016-12-30T00:00:00\",\"2016-12-31T00:00:00\",\"2016-12-31T23:59:59.999999999\"],\"y\":[0.0,0.0,0.0,0.0,0.0,0.0,0.0,0.0,0.0,0.0,0.0,0.0,0.0,0.0,0.0,0.0,0.0],\"type\":\"scatter\",\"xaxis\":\"x\",\"yaxis\":\"y\"},{\"connectgaps\":true,\"hoverinfo\":\"skip\",\"line\":{\"color\":\"rgba(0,0,0,0)\",\"shape\":\"hv\"},\"mode\":\"lines\",\"name\":\"Confidence band\",\"showlegend\":false,\"x\":[\"2016-12-08T00:00:00\",\"2016-12-09T00:00:00\",\"2016-12-10T00:00:00\",\"2016-12-11T00:00:00\",\"2016-12-12T00:00:00\",\"2016-12-13T00:00:00\",\"2016-12-14T00:00:00\",\"2016-12-15T00:00:00\",\"2016-12-15T23:59:59.999999999\"],\"y\":[5.405884007018757,5.186679703970004,5.013573909423046,6.027561356924309,6.087900496740907,6.22463164526282,6.172397778916457,5.32781551774343,5.32781551774343],\"type\":\"scatter\",\"xaxis\":\"x\",\"yaxis\":\"y\"},{\"connectgaps\":true,\"fill\":\"tonexty\",\"fillcolor\":\"rgba(0.23137254901960785, 0.00784313725490196, 0.5019607843137255, 0.2)\",\"hoverinfo\":\"skip\",\"line\":{\"color\":\"rgba(0,0,0,0)\",\"shape\":\"hv\"},\"mode\":\"lines\",\"name\":\"Confidence band\",\"showlegend\":true,\"x\":[\"2016-12-08T00:00:00\",\"2016-12-09T00:00:00\",\"2016-12-10T00:00:00\",\"2016-12-11T00:00:00\",\"2016-12-12T00:00:00\",\"2016-12-13T00:00:00\",\"2016-12-14T00:00:00\",\"2016-12-15T00:00:00\",\"2016-12-15T23:59:59.999999999\"],\"y\":[0.11758884503747957,0.34341689979903967,0.4405119476586292,0.7732351577208822,0.271495965578477,0.5171053182959007,0.7880021719543802,0.4408532164257264,0.4408532164257264],\"type\":\"scatter\",\"xaxis\":\"x\",\"yaxis\":\"y\"},{\"connectgaps\":true,\"hoverinfo\":\"skip\",\"line\":{\"color\":\"rgba(0,0,0,0)\",\"shape\":\"hv\"},\"mode\":\"lines\",\"name\":\"Confidence band\",\"showlegend\":false,\"x\":[\"2016-12-16T00:00:00\",\"2016-12-17T00:00:00\",\"2016-12-18T00:00:00\",\"2016-12-19T00:00:00\",\"2016-12-20T00:00:00\",\"2016-12-21T00:00:00\",\"2016-12-22T00:00:00\",\"2016-12-23T00:00:00\",\"2016-12-24T00:00:00\",\"2016-12-25T00:00:00\",\"2016-12-26T00:00:00\",\"2016-12-27T00:00:00\",\"2016-12-28T00:00:00\",\"2016-12-29T00:00:00\",\"2016-12-30T00:00:00\",\"2016-12-31T00:00:00\",\"2016-12-31T23:59:59.999999999\"],\"y\":[5.582109157779026,5.518274287398963,5.5937015883306955,5.834157683068225,5.942038517580526,5.757377343910321,6.151781202247548,6.353495249611459,6.785310409401693,7.2511243128470095,7.017418116976641,7.469044103153834,7.069843969107628,6.118443862381628,5.967486675459556,5.461871542443924,5.461871542443924],\"type\":\"scatter\",\"xaxis\":\"x\",\"yaxis\":\"y\"},{\"connectgaps\":true,\"fill\":\"tonexty\",\"fillcolor\":\"rgba(0.23137254901960785, 0.00784313725490196, 0.5019607843137255, 0.2)\",\"hoverinfo\":\"skip\",\"line\":{\"color\":\"rgba(0,0,0,0)\",\"shape\":\"hv\"},\"mode\":\"lines\",\"name\":\"Confidence band\",\"showlegend\":false,\"x\":[\"2016-12-16T00:00:00\",\"2016-12-17T00:00:00\",\"2016-12-18T00:00:00\",\"2016-12-19T00:00:00\",\"2016-12-20T00:00:00\",\"2016-12-21T00:00:00\",\"2016-12-22T00:00:00\",\"2016-12-23T00:00:00\",\"2016-12-24T00:00:00\",\"2016-12-25T00:00:00\",\"2016-12-26T00:00:00\",\"2016-12-27T00:00:00\",\"2016-12-28T00:00:00\",\"2016-12-29T00:00:00\",\"2016-12-30T00:00:00\",\"2016-12-31T00:00:00\",\"2016-12-31T23:59:59.999999999\"],\"y\":[0.8961150805907665,0.7105458062045611,0.3786888856230193,0.1500069887713753,0.3596342424369019,0.2327485361975179,0.6448425738228161,0.7929685410983844,0.5654107901418515,0.0,0.0,0.28105731285476,0.49139766978559596,0.0,0.09638780606188391,0.030799187116237192,0.030799187116237192],\"type\":\"scatter\",\"xaxis\":\"x\",\"yaxis\":\"y\"}],                        {\"height\":500.0,\"hoverlabel\":{\"bgcolor\":\"white\",\"font\":{\"size\":14}},\"legend\":{\"itemclick\":false,\"itemdoubleclick\":false,\"traceorder\":\"grouped\"},\"paper_bgcolor\":\"rgba(255,255,255,1)\",\"plot_bgcolor\":\"rgba(255,255,255,1)\",\"title\":{\"text\":\"Estimated performance \\u003cb\\u003e(DLE)\\u003c\\u002fb\\u003e\"},\"xaxis\":{\"linecolor\":\"#3b0280\",\"mirror\":true,\"showgrid\":false,\"title\":{\"text\":\"Time\"},\"zeroline\":false,\"anchor\":\"y\",\"domain\":[0.0,1.0],\"matches\":\"x\"},\"yaxis\":{\"linecolor\":\"#3b0280\",\"mirror\":true,\"showgrid\":false,\"title\":{\"text\":\"RMSE\"},\"zeroline\":false,\"anchor\":\"x\",\"domain\":[0.0,1.0]},\"template\":{\"data\":{\"histogram2dcontour\":[{\"type\":\"histogram2dcontour\",\"colorbar\":{\"outlinewidth\":0,\"ticks\":\"\"},\"colorscale\":[[0.0,\"#0d0887\"],[0.1111111111111111,\"#46039f\"],[0.2222222222222222,\"#7201a8\"],[0.3333333333333333,\"#9c179e\"],[0.4444444444444444,\"#bd3786\"],[0.5555555555555556,\"#d8576b\"],[0.6666666666666666,\"#ed7953\"],[0.7777777777777778,\"#fb9f3a\"],[0.8888888888888888,\"#fdca26\"],[1.0,\"#f0f921\"]]}],\"choropleth\":[{\"type\":\"choropleth\",\"colorbar\":{\"outlinewidth\":0,\"ticks\":\"\"}}],\"histogram2d\":[{\"type\":\"histogram2d\",\"colorbar\":{\"outlinewidth\":0,\"ticks\":\"\"},\"colorscale\":[[0.0,\"#0d0887\"],[0.1111111111111111,\"#46039f\"],[0.2222222222222222,\"#7201a8\"],[0.3333333333333333,\"#9c179e\"],[0.4444444444444444,\"#bd3786\"],[0.5555555555555556,\"#d8576b\"],[0.6666666666666666,\"#ed7953\"],[0.7777777777777778,\"#fb9f3a\"],[0.8888888888888888,\"#fdca26\"],[1.0,\"#f0f921\"]]}],\"heatmap\":[{\"type\":\"heatmap\",\"colorbar\":{\"outlinewidth\":0,\"ticks\":\"\"},\"colorscale\":[[0.0,\"#0d0887\"],[0.1111111111111111,\"#46039f\"],[0.2222222222222222,\"#7201a8\"],[0.3333333333333333,\"#9c179e\"],[0.4444444444444444,\"#bd3786\"],[0.5555555555555556,\"#d8576b\"],[0.6666666666666666,\"#ed7953\"],[0.7777777777777778,\"#fb9f3a\"],[0.8888888888888888,\"#fdca26\"],[1.0,\"#f0f921\"]]}],\"heatmapgl\":[{\"type\":\"heatmapgl\",\"colorbar\":{\"outlinewidth\":0,\"ticks\":\"\"},\"colorscale\":[[0.0,\"#0d0887\"],[0.1111111111111111,\"#46039f\"],[0.2222222222222222,\"#7201a8\"],[0.3333333333333333,\"#9c179e\"],[0.4444444444444444,\"#bd3786\"],[0.5555555555555556,\"#d8576b\"],[0.6666666666666666,\"#ed7953\"],[0.7777777777777778,\"#fb9f3a\"],[0.8888888888888888,\"#fdca26\"],[1.0,\"#f0f921\"]]}],\"contourcarpet\":[{\"type\":\"contourcarpet\",\"colorbar\":{\"outlinewidth\":0,\"ticks\":\"\"}}],\"contour\":[{\"type\":\"contour\",\"colorbar\":{\"outlinewidth\":0,\"ticks\":\"\"},\"colorscale\":[[0.0,\"#0d0887\"],[0.1111111111111111,\"#46039f\"],[0.2222222222222222,\"#7201a8\"],[0.3333333333333333,\"#9c179e\"],[0.4444444444444444,\"#bd3786\"],[0.5555555555555556,\"#d8576b\"],[0.6666666666666666,\"#ed7953\"],[0.7777777777777778,\"#fb9f3a\"],[0.8888888888888888,\"#fdca26\"],[1.0,\"#f0f921\"]]}],\"surface\":[{\"type\":\"surface\",\"colorbar\":{\"outlinewidth\":0,\"ticks\":\"\"},\"colorscale\":[[0.0,\"#0d0887\"],[0.1111111111111111,\"#46039f\"],[0.2222222222222222,\"#7201a8\"],[0.3333333333333333,\"#9c179e\"],[0.4444444444444444,\"#bd3786\"],[0.5555555555555556,\"#d8576b\"],[0.6666666666666666,\"#ed7953\"],[0.7777777777777778,\"#fb9f3a\"],[0.8888888888888888,\"#fdca26\"],[1.0,\"#f0f921\"]]}],\"mesh3d\":[{\"type\":\"mesh3d\",\"colorbar\":{\"outlinewidth\":0,\"ticks\":\"\"}}],\"scatter\":[{\"fillpattern\":{\"fillmode\":\"overlay\",\"size\":10,\"solidity\":0.2},\"type\":\"scatter\"}],\"parcoords\":[{\"type\":\"parcoords\",\"line\":{\"colorbar\":{\"outlinewidth\":0,\"ticks\":\"\"}}}],\"scatterpolargl\":[{\"type\":\"scatterpolargl\",\"marker\":{\"colorbar\":{\"outlinewidth\":0,\"ticks\":\"\"}}}],\"bar\":[{\"error_x\":{\"color\":\"#2a3f5f\"},\"error_y\":{\"color\":\"#2a3f5f\"},\"marker\":{\"line\":{\"color\":\"#E5ECF6\",\"width\":0.5},\"pattern\":{\"fillmode\":\"overlay\",\"size\":10,\"solidity\":0.2}},\"type\":\"bar\"}],\"scattergeo\":[{\"type\":\"scattergeo\",\"marker\":{\"colorbar\":{\"outlinewidth\":0,\"ticks\":\"\"}}}],\"scatterpolar\":[{\"type\":\"scatterpolar\",\"marker\":{\"colorbar\":{\"outlinewidth\":0,\"ticks\":\"\"}}}],\"histogram\":[{\"marker\":{\"pattern\":{\"fillmode\":\"overlay\",\"size\":10,\"solidity\":0.2}},\"type\":\"histogram\"}],\"scattergl\":[{\"type\":\"scattergl\",\"marker\":{\"colorbar\":{\"outlinewidth\":0,\"ticks\":\"\"}}}],\"scatter3d\":[{\"type\":\"scatter3d\",\"line\":{\"colorbar\":{\"outlinewidth\":0,\"ticks\":\"\"}},\"marker\":{\"colorbar\":{\"outlinewidth\":0,\"ticks\":\"\"}}}],\"scattermapbox\":[{\"type\":\"scattermapbox\",\"marker\":{\"colorbar\":{\"outlinewidth\":0,\"ticks\":\"\"}}}],\"scatterternary\":[{\"type\":\"scatterternary\",\"marker\":{\"colorbar\":{\"outlinewidth\":0,\"ticks\":\"\"}}}],\"scattercarpet\":[{\"type\":\"scattercarpet\",\"marker\":{\"colorbar\":{\"outlinewidth\":0,\"ticks\":\"\"}}}],\"carpet\":[{\"aaxis\":{\"endlinecolor\":\"#2a3f5f\",\"gridcolor\":\"white\",\"linecolor\":\"white\",\"minorgridcolor\":\"white\",\"startlinecolor\":\"#2a3f5f\"},\"baxis\":{\"endlinecolor\":\"#2a3f5f\",\"gridcolor\":\"white\",\"linecolor\":\"white\",\"minorgridcolor\":\"white\",\"startlinecolor\":\"#2a3f5f\"},\"type\":\"carpet\"}],\"table\":[{\"cells\":{\"fill\":{\"color\":\"#EBF0F8\"},\"line\":{\"color\":\"white\"}},\"header\":{\"fill\":{\"color\":\"#C8D4E3\"},\"line\":{\"color\":\"white\"}},\"type\":\"table\"}],\"barpolar\":[{\"marker\":{\"line\":{\"color\":\"#E5ECF6\",\"width\":0.5},\"pattern\":{\"fillmode\":\"overlay\",\"size\":10,\"solidity\":0.2}},\"type\":\"barpolar\"}],\"pie\":[{\"automargin\":true,\"type\":\"pie\"}]},\"layout\":{\"autotypenumbers\":\"strict\",\"colorway\":[\"#636efa\",\"#EF553B\",\"#00cc96\",\"#ab63fa\",\"#FFA15A\",\"#19d3f3\",\"#FF6692\",\"#B6E880\",\"#FF97FF\",\"#FECB52\"],\"font\":{\"color\":\"#2a3f5f\"},\"hovermode\":\"closest\",\"hoverlabel\":{\"align\":\"left\"},\"paper_bgcolor\":\"white\",\"plot_bgcolor\":\"#E5ECF6\",\"polar\":{\"bgcolor\":\"#E5ECF6\",\"angularaxis\":{\"gridcolor\":\"white\",\"linecolor\":\"white\",\"ticks\":\"\"},\"radialaxis\":{\"gridcolor\":\"white\",\"linecolor\":\"white\",\"ticks\":\"\"}},\"ternary\":{\"bgcolor\":\"#E5ECF6\",\"aaxis\":{\"gridcolor\":\"white\",\"linecolor\":\"white\",\"ticks\":\"\"},\"baxis\":{\"gridcolor\":\"white\",\"linecolor\":\"white\",\"ticks\":\"\"},\"caxis\":{\"gridcolor\":\"white\",\"linecolor\":\"white\",\"ticks\":\"\"}},\"coloraxis\":{\"colorbar\":{\"outlinewidth\":0,\"ticks\":\"\"}},\"colorscale\":{\"sequential\":[[0.0,\"#0d0887\"],[0.1111111111111111,\"#46039f\"],[0.2222222222222222,\"#7201a8\"],[0.3333333333333333,\"#9c179e\"],[0.4444444444444444,\"#bd3786\"],[0.5555555555555556,\"#d8576b\"],[0.6666666666666666,\"#ed7953\"],[0.7777777777777778,\"#fb9f3a\"],[0.8888888888888888,\"#fdca26\"],[1.0,\"#f0f921\"]],\"sequentialminus\":[[0.0,\"#0d0887\"],[0.1111111111111111,\"#46039f\"],[0.2222222222222222,\"#7201a8\"],[0.3333333333333333,\"#9c179e\"],[0.4444444444444444,\"#bd3786\"],[0.5555555555555556,\"#d8576b\"],[0.6666666666666666,\"#ed7953\"],[0.7777777777777778,\"#fb9f3a\"],[0.8888888888888888,\"#fdca26\"],[1.0,\"#f0f921\"]],\"diverging\":[[0,\"#8e0152\"],[0.1,\"#c51b7d\"],[0.2,\"#de77ae\"],[0.3,\"#f1b6da\"],[0.4,\"#fde0ef\"],[0.5,\"#f7f7f7\"],[0.6,\"#e6f5d0\"],[0.7,\"#b8e186\"],[0.8,\"#7fbc41\"],[0.9,\"#4d9221\"],[1,\"#276419\"]]},\"xaxis\":{\"gridcolor\":\"white\",\"linecolor\":\"white\",\"ticks\":\"\",\"title\":{\"standoff\":15},\"zerolinecolor\":\"white\",\"automargin\":true,\"zerolinewidth\":2},\"yaxis\":{\"gridcolor\":\"white\",\"linecolor\":\"white\",\"ticks\":\"\",\"title\":{\"standoff\":15},\"zerolinecolor\":\"white\",\"automargin\":true,\"zerolinewidth\":2},\"scene\":{\"xaxis\":{\"backgroundcolor\":\"#E5ECF6\",\"gridcolor\":\"white\",\"linecolor\":\"white\",\"showbackground\":true,\"ticks\":\"\",\"zerolinecolor\":\"white\",\"gridwidth\":2},\"yaxis\":{\"backgroundcolor\":\"#E5ECF6\",\"gridcolor\":\"white\",\"linecolor\":\"white\",\"showbackground\":true,\"ticks\":\"\",\"zerolinecolor\":\"white\",\"gridwidth\":2},\"zaxis\":{\"backgroundcolor\":\"#E5ECF6\",\"gridcolor\":\"white\",\"linecolor\":\"white\",\"showbackground\":true,\"ticks\":\"\",\"zerolinecolor\":\"white\",\"gridwidth\":2}},\"shapedefaults\":{\"line\":{\"color\":\"#2a3f5f\"}},\"annotationdefaults\":{\"arrowcolor\":\"#2a3f5f\",\"arrowhead\":0,\"arrowwidth\":1},\"geo\":{\"bgcolor\":\"white\",\"landcolor\":\"#E5ECF6\",\"subunitcolor\":\"white\",\"showland\":true,\"showlakes\":true,\"lakecolor\":\"white\"},\"title\":{\"x\":0.05},\"mapbox\":{\"style\":\"light\"}}},\"annotations\":[{\"font\":{\"size\":16},\"showarrow\":false,\"text\":\"Estimated \\u003cb\\u003eRMSE\\u003c\\u002fb\\u003e\",\"x\":0.5,\"xanchor\":\"center\",\"xref\":\"paper\",\"y\":1.0,\"yanchor\":\"bottom\",\"yref\":\"paper\"},{\"showarrow\":false,\"text\":\"Reference\",\"x\":\"2016-12-11T12:00:00\",\"xref\":\"x\",\"xshift\":10,\"y\":1.01,\"yref\":\"y domain\"},{\"showarrow\":false,\"text\":\"Analysis\",\"x\":\"2016-12-23T12:00:00\",\"xref\":\"x\",\"xshift\":15,\"y\":1.01,\"yref\":\"y domain\"}],\"shapes\":[{\"layer\":\"below\",\"line\":{\"color\":\"#666666\",\"width\":1},\"type\":\"line\",\"x0\":\"2016-12-16T00:00:00\",\"x1\":\"2016-12-16T00:00:00\",\"xref\":\"x\",\"y0\":0,\"y1\":1,\"yref\":\"y domain\"}]},                        {\"responsive\": true}                    ).then(function(){\n",
              "                            \n",
              "var gd = document.getElementById('b4c078ed-863b-4f47-a528-ab3550b0584c');\n",
              "var x = new MutationObserver(function (mutations, observer) {{\n",
              "        var display = window.getComputedStyle(gd).display;\n",
              "        if (!display || display === 'none') {{\n",
              "            console.log([gd, 'removed!']);\n",
              "            Plotly.purge(gd);\n",
              "            observer.disconnect();\n",
              "        }}\n",
              "}});\n",
              "\n",
              "// Listen for the removal of the full notebook cells\n",
              "var notebookContainer = gd.closest('#notebook-container');\n",
              "if (notebookContainer) {{\n",
              "    x.observe(notebookContainer, {childList: true});\n",
              "}}\n",
              "\n",
              "// Listen for the clearing of the current output cell\n",
              "var outputEl = gd.closest('.output');\n",
              "if (outputEl) {{\n",
              "    x.observe(outputEl, {childList: true});\n",
              "}}\n",
              "\n",
              "                        })                };                            </script>        </div>\n",
              "</body>\n",
              "</html>"
            ]
          },
          "metadata": {}
        }
      ]
    },
    {
      "cell_type": "markdown",
      "source": [
        "**Initialize the performance calculator**"
      ],
      "metadata": {
        "id": "2FAyR0_927R9"
      }
    },
    {
      "cell_type": "code",
      "source": [
        "calculator_dle = nannyml.PerformanceCalculator(y_true = 'tip_amount', y_pred = 'y_pred', metrics = ['rmse'],\n",
        "                        timestamp_column_name = 'lpep_pickup_datetime', chunk_period = 'd',\n",
        "                        problem_type = 'regression')"
      ],
      "metadata": {
        "id": "3t9ZNCCT3ARb"
      },
      "execution_count": 101,
      "outputs": []
    },
    {
      "cell_type": "markdown",
      "source": [
        "**Fit the calculator**"
      ],
      "metadata": {
        "id": "9nw384v9OPVO"
      }
    },
    {
      "cell_type": "code",
      "source": [
        "calculator_dle.fit(reference)\n",
        "realized_results = calculator_dle.calculate(analysis)"
      ],
      "metadata": {
        "colab": {
          "base_uri": "https://localhost:8080/"
        },
        "id": "_rKmwwfAOFsO",
        "outputId": "808c862e-1f1c-4ca4-e7b6-731f4130ced4"
      },
      "execution_count": 102,
      "outputs": [
        {
          "output_type": "stream",
          "name": "stderr",
          "text": [
            "WARNING:nannyml.performance_calculation.metrics.base:rmse lower threshold value -0.007715092104498389 overridden by lower threshold value limit 0\n"
          ]
        }
      ]
    },
    {
      "cell_type": "markdown",
      "source": [
        "**Plot the realised performance result**"
      ],
      "metadata": {
        "id": "x4YiKfQRPGdV"
      }
    },
    {
      "cell_type": "code",
      "source": [
        "realized_results.plot().show()"
      ],
      "metadata": {
        "colab": {
          "base_uri": "https://localhost:8080/",
          "height": 517
        },
        "id": "XGnf_b0HPN6G",
        "outputId": "b0fba274-2a54-4f6c-ab70-be62dee95d13"
      },
      "execution_count": 103,
      "outputs": [
        {
          "output_type": "display_data",
          "data": {
            "text/html": [
              "<html>\n",
              "<head><meta charset=\"utf-8\" /></head>\n",
              "<body>\n",
              "    <div>            <script src=\"https://cdnjs.cloudflare.com/ajax/libs/mathjax/2.7.5/MathJax.js?config=TeX-AMS-MML_SVG\"></script><script type=\"text/javascript\">if (window.MathJax && window.MathJax.Hub && window.MathJax.Hub.Config) {window.MathJax.Hub.Config({SVG: {font: \"STIX-Web\"}});}</script>                <script type=\"text/javascript\">window.PlotlyConfig = {MathJaxConfig: 'local'};</script>\n",
              "        <script charset=\"utf-8\" src=\"https://cdn.plot.ly/plotly-2.24.1.min.js\"></script>                <div id=\"4824a305-0b0b-443f-a622-fba8d5499764\" class=\"plotly-graph-div\" style=\"height:500.0px; width:100%;\"></div>            <script type=\"text/javascript\">                                    window.PLOTLYENV=window.PLOTLYENV || {};                                    if (document.getElementById(\"4824a305-0b0b-443f-a622-fba8d5499764\")) {                    Plotly.newPlot(                        \"4824a305-0b0b-443f-a622-fba8d5499764\",                        [{\"hoverinfo\":\"skip\",\"legendgroup\":\"metric_reference\",\"line\":{\"color\":\"#00c8e5\",\"shape\":\"hv\",\"width\":2},\"mode\":\"lines\",\"name\":\"Metric\",\"showlegend\":true,\"x\":[\"2016-12-08T00:00:00\",\"2016-12-09T00:00:00\",\"2016-12-10T00:00:00\",\"2016-12-11T00:00:00\",\"2016-12-12T00:00:00\",\"2016-12-13T00:00:00\",\"2016-12-14T00:00:00\",\"2016-12-15T00:00:00\",\"2016-12-15T23:59:59.999999999\"],\"y\":[2.5948856091552956,1.733859037215487,1.666518371582511,2.0528944962959637,2.6842425080584715,3.5302928548002934,4.485738449914107,2.5308791446388947,2.5308791446388947],\"type\":\"scatter\",\"xaxis\":\"x\",\"yaxis\":\"y\"},{\"customdata\":[[\"Realized \\u003cb\\u003eRMSE\\u003c\\u002fb\\u003e\",\"\\u003cb style=\\\"color:#00c8e5;line-height:60px\\\"\\u003eReference\\u003c\\u002fb\\u003e\",\"\",\"2016-12-08\",\"From \\u003cb\\u003eDec-08-2016\\u003c\\u002fb\\u003e to \\u003cb\\u003eDec-08-2016\\u003c\\u002fb\\u003e\",2.5949,2.6441],[\"Realized \\u003cb\\u003eRMSE\\u003c\\u002fb\\u003e\",\"\\u003cb style=\\\"color:#00c8e5;line-height:60px\\\"\\u003eReference\\u003c\\u002fb\\u003e\",\"\",\"2016-12-09\",\"From \\u003cb\\u003eDec-09-2016\\u003c\\u002fb\\u003e to \\u003cb\\u003eDec-09-2016\\u003c\\u002fb\\u003e\",1.7339,2.4216],[\"Realized \\u003cb\\u003eRMSE\\u003c\\u002fb\\u003e\",\"\\u003cb style=\\\"color:#00c8e5;line-height:60px\\\"\\u003eReference\\u003c\\u002fb\\u003e\",\"\",\"2016-12-10\",\"From \\u003cb\\u003eDec-10-2016\\u003c\\u002fb\\u003e to \\u003cb\\u003eDec-10-2016\\u003c\\u002fb\\u003e\",1.6665,2.2865],[\"Realized \\u003cb\\u003eRMSE\\u003c\\u002fb\\u003e\",\"\\u003cb style=\\\"color:#00c8e5;line-height:60px\\\"\\u003eReference\\u003c\\u002fb\\u003e\",\"\",\"2016-12-11\",\"From \\u003cb\\u003eDec-11-2016\\u003c\\u002fb\\u003e to \\u003cb\\u003eDec-11-2016\\u003c\\u002fb\\u003e\",2.0529,2.6272],[\"Realized \\u003cb\\u003eRMSE\\u003c\\u002fb\\u003e\",\"\\u003cb style=\\\"color:#00c8e5;line-height:60px\\\"\\u003eReference\\u003c\\u002fb\\u003e\",\"\",\"2016-12-12\",\"From \\u003cb\\u003eDec-12-2016\\u003c\\u002fb\\u003e to \\u003cb\\u003eDec-12-2016\\u003c\\u002fb\\u003e\",2.6842,2.9082],[\"Realized \\u003cb\\u003eRMSE\\u003c\\u002fb\\u003e\",\"\\u003cb style=\\\"color:#00c8e5;line-height:60px\\\"\\u003eReference\\u003c\\u002fb\\u003e\",\"\",\"2016-12-13\",\"From \\u003cb\\u003eDec-13-2016\\u003c\\u002fb\\u003e to \\u003cb\\u003eDec-13-2016\\u003c\\u002fb\\u003e\",3.5303,2.8538],[\"Realized \\u003cb\\u003eRMSE\\u003c\\u002fb\\u003e\",\"\\u003cb style=\\\"color:#00c8e5;line-height:60px\\\"\\u003eReference\\u003c\\u002fb\\u003e\",\"\",\"2016-12-14\",\"From \\u003cb\\u003eDec-14-2016\\u003c\\u002fb\\u003e to \\u003cb\\u003eDec-14-2016\\u003c\\u002fb\\u003e\",4.4857,2.6922],[\"Realized \\u003cb\\u003eRMSE\\u003c\\u002fb\\u003e\",\"\\u003cb style=\\\"color:#00c8e5;line-height:60px\\\"\\u003eReference\\u003c\\u002fb\\u003e\",\"\",\"2016-12-15\",\"From \\u003cb\\u003eDec-15-2016\\u003c\\u002fb\\u003e to \\u003cb\\u003eDec-15-2016\\u003c\\u002fb\\u003e\",2.5309,2.4435]],\"hovertemplate\":\"%{customdata[1]} &nbsp; &nbsp; %{customdata[2]} \\u003cbr \\u002f\\u003eChunk: \\u003cb\\u003e%{customdata[3]}\\u003c\\u002fb\\u003e &nbsp; &nbsp; %{customdata[4]} \\u003cbr \\u002f\\u003e%{customdata[0]}: \\u003cb\\u003e%{customdata[5]}\\u003c\\u002fb\\u003e\\u003cbr \\u002f\\u003eConfidence band: +\\u002f- \\u003cb\\u003e%{customdata[6]}\\u003c\\u002fb\\u003e\\u003cbr \\u002f\\u003e\\u003cextra\\u003e\\u003c\\u002fextra\\u003e\",\"legendgroup\":\"metric_reference\",\"marker\":{\"color\":\"#00c8e5\",\"size\":5,\"symbol\":\"circle\"},\"mode\":\"markers\",\"name\":\"Metric\",\"showlegend\":false,\"x\":[\"2016-12-08T12:00:00\",\"2016-12-09T12:00:00\",\"2016-12-10T12:00:00\",\"2016-12-11T12:00:00\",\"2016-12-12T12:00:00\",\"2016-12-13T12:00:00\",\"2016-12-14T12:00:00\",\"2016-12-15T11:59:59.999999999\"],\"y\":[2.5948856091552956,1.733859037215487,1.666518371582511,2.0528944962959637,2.6842425080584715,3.5302928548002934,4.485738449914107,2.5308791446388947,2.5308791446388947],\"type\":\"scatter\",\"xaxis\":\"x\",\"yaxis\":\"y\"},{\"hoverinfo\":\"skip\",\"legendgroup\":\"metric_analysis\",\"line\":{\"color\":\"#00c8e5\",\"shape\":\"hv\",\"width\":2},\"mode\":\"lines\",\"name\":\"Metric\",\"showlegend\":false,\"x\":[\"2016-12-16T00:00:00\",\"2016-12-17T00:00:00\",\"2016-12-18T00:00:00\",\"2016-12-19T00:00:00\",\"2016-12-20T00:00:00\",\"2016-12-21T00:00:00\",\"2016-12-22T00:00:00\",\"2016-12-23T00:00:00\",\"2016-12-24T00:00:00\",\"2016-12-25T00:00:00\",\"2016-12-26T00:00:00\",\"2016-12-27T00:00:00\",\"2016-12-28T00:00:00\",\"2016-12-29T00:00:00\",\"2016-12-30T00:00:00\",\"2016-12-31T00:00:00\",\"2016-12-31T23:59:59.999999999\"],\"y\":[1.97849448017598,1.9777339968294791,1.6713368173471248,2.231089779519368,1.762024743720832,1.9849069716382874,1.9810675123973212,2.1031352172696716,4.5289932665018,2.470836035076337,1.6483849541605666,1.735368798111514,2.137288072341681,1.7589900691107572,1.8929697802015553,1.7013729850484745,1.7013729850484745],\"type\":\"scatter\",\"xaxis\":\"x\",\"yaxis\":\"y\"},{\"customdata\":[[\"Realized \\u003cb\\u003eRMSE\\u003c\\u002fb\\u003e\",\"\\u003cb style=\\\"color:#3b0280;line-height:60px\\\"\\u003eAnalysis\\u003c\\u002fb\\u003e\",\"\",\"2016-12-16\",\"From \\u003cb\\u003eDec-16-2016\\u003c\\u002fb\\u003e to \\u003cb\\u003eDec-16-2016\\u003c\\u002fb\\u003e\",1.9785,2.343],[\"Realized \\u003cb\\u003eRMSE\\u003c\\u002fb\\u003e\",\"\\u003cb style=\\\"color:#3b0280;line-height:60px\\\"\\u003eAnalysis\\u003c\\u002fb\\u003e\",\"\",\"2016-12-17\",\"From \\u003cb\\u003eDec-17-2016\\u003c\\u002fb\\u003e to \\u003cb\\u003eDec-17-2016\\u003c\\u002fb\\u003e\",1.9777,2.4039],[\"Realized \\u003cb\\u003eRMSE\\u003c\\u002fb\\u003e\",\"\\u003cb style=\\\"color:#3b0280;line-height:60px\\\"\\u003eAnalysis\\u003c\\u002fb\\u003e\",\"\",\"2016-12-18\",\"From \\u003cb\\u003eDec-18-2016\\u003c\\u002fb\\u003e to \\u003cb\\u003eDec-18-2016\\u003c\\u002fb\\u003e\",1.6713,2.6075],[\"Realized \\u003cb\\u003eRMSE\\u003c\\u002fb\\u003e\",\"\\u003cb style=\\\"color:#3b0280;line-height:60px\\\"\\u003eAnalysis\\u003c\\u002fb\\u003e\",\"\",\"2016-12-19\",\"From \\u003cb\\u003eDec-19-2016\\u003c\\u002fb\\u003e to \\u003cb\\u003eDec-19-2016\\u003c\\u002fb\\u003e\",2.2311,2.8421],[\"Realized \\u003cb\\u003eRMSE\\u003c\\u002fb\\u003e\",\"\\u003cb style=\\\"color:#3b0280;line-height:60px\\\"\\u003eAnalysis\\u003c\\u002fb\\u003e\",\"\",\"2016-12-20\",\"From \\u003cb\\u003eDec-20-2016\\u003c\\u002fb\\u003e to \\u003cb\\u003eDec-20-2016\\u003c\\u002fb\\u003e\",1.762,2.7912],[\"Realized \\u003cb\\u003eRMSE\\u003c\\u002fb\\u003e\",\"\\u003cb style=\\\"color:#3b0280;line-height:60px\\\"\\u003eAnalysis\\u003c\\u002fb\\u003e\",\"\",\"2016-12-21\",\"From \\u003cb\\u003eDec-21-2016\\u003c\\u002fb\\u003e to \\u003cb\\u003eDec-21-2016\\u003c\\u002fb\\u003e\",1.9849,2.7623],[\"Realized \\u003cb\\u003eRMSE\\u003c\\u002fb\\u003e\",\"\\u003cb style=\\\"color:#3b0280;line-height:60px\\\"\\u003eAnalysis\\u003c\\u002fb\\u003e\",\"\",\"2016-12-22\",\"From \\u003cb\\u003eDec-22-2016\\u003c\\u002fb\\u003e to \\u003cb\\u003eDec-22-2016\\u003c\\u002fb\\u003e\",1.9811,2.7535],[\"Realized \\u003cb\\u003eRMSE\\u003c\\u002fb\\u003e\",\"\\u003cb style=\\\"color:#3b0280;line-height:60px\\\"\\u003eAnalysis\\u003c\\u002fb\\u003e\",\"\",\"2016-12-23\",\"From \\u003cb\\u003eDec-23-2016\\u003c\\u002fb\\u003e to \\u003cb\\u003eDec-23-2016\\u003c\\u002fb\\u003e\",2.1031,2.7803],[\"Realized \\u003cb\\u003eRMSE\\u003c\\u002fb\\u003e\",\"\\u003cb style=\\\"color:#3b0280;line-height:60px\\\"\\u003eAnalysis\\u003c\\u002fb\\u003e\",\"\",\"2016-12-24\",\"From \\u003cb\\u003eDec-24-2016\\u003c\\u002fb\\u003e to \\u003cb\\u003eDec-24-2016\\u003c\\u002fb\\u003e\",4.529,3.1099],[\"Realized \\u003cb\\u003eRMSE\\u003c\\u002fb\\u003e\",\"\\u003cb style=\\\"color:#3b0280;line-height:60px\\\"\\u003eAnalysis\\u003c\\u002fb\\u003e\",\"\",\"2016-12-25\",\"From \\u003cb\\u003eDec-25-2016\\u003c\\u002fb\\u003e to \\u003cb\\u003eDec-25-2016\\u003c\\u002fb\\u003e\",2.4708,4.003],[\"Realized \\u003cb\\u003eRMSE\\u003c\\u002fb\\u003e\",\"\\u003cb style=\\\"color:#3b0280;line-height:60px\\\"\\u003eAnalysis\\u003c\\u002fb\\u003e\",\"\",\"2016-12-26\",\"From \\u003cb\\u003eDec-26-2016\\u003c\\u002fb\\u003e to \\u003cb\\u003eDec-26-2016\\u003c\\u002fb\\u003e\",1.6484,3.9141],[\"Realized \\u003cb\\u003eRMSE\\u003c\\u002fb\\u003e\",\"\\u003cb style=\\\"color:#3b0280;line-height:60px\\\"\\u003eAnalysis\\u003c\\u002fb\\u003e\",\"\",\"2016-12-27\",\"From \\u003cb\\u003eDec-27-2016\\u003c\\u002fb\\u003e to \\u003cb\\u003eDec-27-2016\\u003c\\u002fb\\u003e\",1.7354,3.594],[\"Realized \\u003cb\\u003eRMSE\\u003c\\u002fb\\u003e\",\"\\u003cb style=\\\"color:#3b0280;line-height:60px\\\"\\u003eAnalysis\\u003c\\u002fb\\u003e\",\"\",\"2016-12-28\",\"From \\u003cb\\u003eDec-28-2016\\u003c\\u002fb\\u003e to \\u003cb\\u003eDec-28-2016\\u003c\\u002fb\\u003e\",2.1373,3.2892],[\"Realized \\u003cb\\u003eRMSE\\u003c\\u002fb\\u003e\",\"\\u003cb style=\\\"color:#3b0280;line-height:60px\\\"\\u003eAnalysis\\u003c\\u002fb\\u003e\",\"\",\"2016-12-29\",\"From \\u003cb\\u003eDec-29-2016\\u003c\\u002fb\\u003e to \\u003cb\\u003eDec-29-2016\\u003c\\u002fb\\u003e\",1.759,3.1835],[\"Realized \\u003cb\\u003eRMSE\\u003c\\u002fb\\u003e\",\"\\u003cb style=\\\"color:#3b0280;line-height:60px\\\"\\u003eAnalysis\\u003c\\u002fb\\u003e\",\"\",\"2016-12-30\",\"From \\u003cb\\u003eDec-30-2016\\u003c\\u002fb\\u003e to \\u003cb\\u003eDec-30-2016\\u003c\\u002fb\\u003e\",1.893,2.9355],[\"Realized \\u003cb\\u003eRMSE\\u003c\\u002fb\\u003e\",\"\\u003cb style=\\\"color:#3b0280;line-height:60px\\\"\\u003eAnalysis\\u003c\\u002fb\\u003e\",\"\",\"2016-12-31\",\"From \\u003cb\\u003eDec-31-2016\\u003c\\u002fb\\u003e to \\u003cb\\u003eDec-31-2016\\u003c\\u002fb\\u003e\",1.7014,2.7155]],\"hovertemplate\":\"%{customdata[1]} &nbsp; &nbsp; %{customdata[2]} \\u003cbr \\u002f\\u003eChunk: \\u003cb\\u003e%{customdata[3]}\\u003c\\u002fb\\u003e &nbsp; &nbsp; %{customdata[4]} \\u003cbr \\u002f\\u003e%{customdata[0]}: \\u003cb\\u003e%{customdata[5]}\\u003c\\u002fb\\u003e\\u003cbr \\u002f\\u003eConfidence band: +\\u002f- \\u003cb\\u003e%{customdata[6]}\\u003c\\u002fb\\u003e\\u003cbr \\u002f\\u003e\\u003cextra\\u003e\\u003c\\u002fextra\\u003e\",\"legendgroup\":\"metric_analysis\",\"marker\":{\"color\":\"#00c8e5\",\"size\":5,\"symbol\":\"circle\"},\"mode\":\"markers\",\"name\":\"Metric\",\"showlegend\":false,\"x\":[\"2016-12-16T12:00:00\",\"2016-12-17T12:00:00\",\"2016-12-18T12:00:00\",\"2016-12-19T12:00:00\",\"2016-12-20T12:00:00\",\"2016-12-21T12:00:00\",\"2016-12-22T12:00:00\",\"2016-12-23T12:00:00\",\"2016-12-24T12:00:00\",\"2016-12-25T12:00:00\",\"2016-12-26T12:00:00\",\"2016-12-27T12:00:00\",\"2016-12-28T12:00:00\",\"2016-12-29T12:00:00\",\"2016-12-30T12:00:00\",\"2016-12-31T11:59:59.999999999\"],\"y\":[1.97849448017598,1.9777339968294791,1.6713368173471248,2.231089779519368,1.762024743720832,1.9849069716382874,1.9810675123973212,2.1031352172696716,4.5289932665018,2.470836035076337,1.6483849541605666,1.735368798111514,2.137288072341681,1.7589900691107572,1.8929697802015553,1.7013729850484745,1.7013729850484745],\"type\":\"scatter\",\"xaxis\":\"x\",\"yaxis\":\"y\"},{\"hoverinfo\":\"skip\",\"legendgroup\":\"alert\",\"marker\":{\"color\":\"#DD4040\",\"size\":8,\"symbol\":\"diamond\"},\"mode\":\"markers\",\"name\":\"Alert\",\"showlegend\":true,\"x\":[],\"y\":[],\"type\":\"scatter\",\"xaxis\":\"x\",\"yaxis\":\"y\"},{\"hoverinfo\":\"skip\",\"legendgroup\":\"thresh\",\"line\":{\"color\":\"#DD4040\",\"dash\":\"dash\",\"width\":2},\"mode\":\"lines\",\"name\":\"Threshold\",\"showlegend\":true,\"x\":[\"2016-12-08T00:00:00\",\"2016-12-09T00:00:00\",\"2016-12-10T00:00:00\",\"2016-12-11T00:00:00\",\"2016-12-12T00:00:00\",\"2016-12-13T00:00:00\",\"2016-12-14T00:00:00\",\"2016-12-15T00:00:00\",\"2016-12-15T23:59:59.999999999\"],\"y\":[5.327542710019755,5.327542710019755,5.327542710019755,5.327542710019755,5.327542710019755,5.327542710019755,5.327542710019755,5.327542710019755,5.327542710019755],\"type\":\"scatter\",\"xaxis\":\"x\",\"yaxis\":\"y\"},{\"hoverinfo\":\"skip\",\"legendgroup\":\"thresh\",\"line\":{\"color\":\"#DD4040\",\"dash\":\"dash\",\"width\":2},\"mode\":\"lines\",\"name\":\"Threshold\",\"showlegend\":false,\"x\":[\"2016-12-08T00:00:00\",\"2016-12-09T00:00:00\",\"2016-12-10T00:00:00\",\"2016-12-11T00:00:00\",\"2016-12-12T00:00:00\",\"2016-12-13T00:00:00\",\"2016-12-14T00:00:00\",\"2016-12-15T00:00:00\",\"2016-12-15T23:59:59.999999999\"],\"y\":[0,0,0,0,0,0,0,0,0],\"type\":\"scatter\",\"xaxis\":\"x\",\"yaxis\":\"y\"},{\"hoverinfo\":\"skip\",\"legendgroup\":\"thresh\",\"line\":{\"color\":\"#DD4040\",\"dash\":\"dash\",\"width\":2},\"mode\":\"lines\",\"name\":\"Threshold\",\"showlegend\":false,\"x\":[\"2016-12-16T00:00:00\",\"2016-12-17T00:00:00\",\"2016-12-18T00:00:00\",\"2016-12-19T00:00:00\",\"2016-12-20T00:00:00\",\"2016-12-21T00:00:00\",\"2016-12-22T00:00:00\",\"2016-12-23T00:00:00\",\"2016-12-24T00:00:00\",\"2016-12-25T00:00:00\",\"2016-12-26T00:00:00\",\"2016-12-27T00:00:00\",\"2016-12-28T00:00:00\",\"2016-12-29T00:00:00\",\"2016-12-30T00:00:00\",\"2016-12-31T00:00:00\",\"2016-12-31T23:59:59.999999999\"],\"y\":[5.327542710019755,5.327542710019755,5.327542710019755,5.327542710019755,5.327542710019755,5.327542710019755,5.327542710019755,5.327542710019755,5.327542710019755,5.327542710019755,5.327542710019755,5.327542710019755,5.327542710019755,5.327542710019755,5.327542710019755,5.327542710019755,5.327542710019755],\"type\":\"scatter\",\"xaxis\":\"x\",\"yaxis\":\"y\"},{\"hoverinfo\":\"skip\",\"legendgroup\":\"thresh\",\"line\":{\"color\":\"#DD4040\",\"dash\":\"dash\",\"width\":2},\"mode\":\"lines\",\"name\":\"Threshold\",\"showlegend\":false,\"x\":[\"2016-12-16T00:00:00\",\"2016-12-17T00:00:00\",\"2016-12-18T00:00:00\",\"2016-12-19T00:00:00\",\"2016-12-20T00:00:00\",\"2016-12-21T00:00:00\",\"2016-12-22T00:00:00\",\"2016-12-23T00:00:00\",\"2016-12-24T00:00:00\",\"2016-12-25T00:00:00\",\"2016-12-26T00:00:00\",\"2016-12-27T00:00:00\",\"2016-12-28T00:00:00\",\"2016-12-29T00:00:00\",\"2016-12-30T00:00:00\",\"2016-12-31T00:00:00\",\"2016-12-31T23:59:59.999999999\"],\"y\":[0,0,0,0,0,0,0,0,0,0,0,0,0,0,0,0,0],\"type\":\"scatter\",\"xaxis\":\"x\",\"yaxis\":\"y\"}],                        {\"height\":500.0,\"hoverlabel\":{\"bgcolor\":\"white\",\"font\":{\"size\":14}},\"legend\":{\"itemclick\":false,\"itemdoubleclick\":false,\"traceorder\":\"grouped\"},\"paper_bgcolor\":\"rgba(255,255,255,1)\",\"plot_bgcolor\":\"rgba(255,255,255,1)\",\"title\":{\"text\":\"Realized performance\"},\"xaxis\":{\"linecolor\":\"#3b0280\",\"mirror\":true,\"showgrid\":false,\"title\":{\"text\":\"Time\"},\"zeroline\":false,\"anchor\":\"y\",\"domain\":[0.0,1.0],\"matches\":\"x\"},\"yaxis\":{\"linecolor\":\"#3b0280\",\"mirror\":true,\"showgrid\":false,\"title\":{\"text\":\"RMSE\"},\"zeroline\":false,\"anchor\":\"x\",\"domain\":[0.0,1.0]},\"template\":{\"data\":{\"histogram2dcontour\":[{\"type\":\"histogram2dcontour\",\"colorbar\":{\"outlinewidth\":0,\"ticks\":\"\"},\"colorscale\":[[0.0,\"#0d0887\"],[0.1111111111111111,\"#46039f\"],[0.2222222222222222,\"#7201a8\"],[0.3333333333333333,\"#9c179e\"],[0.4444444444444444,\"#bd3786\"],[0.5555555555555556,\"#d8576b\"],[0.6666666666666666,\"#ed7953\"],[0.7777777777777778,\"#fb9f3a\"],[0.8888888888888888,\"#fdca26\"],[1.0,\"#f0f921\"]]}],\"choropleth\":[{\"type\":\"choropleth\",\"colorbar\":{\"outlinewidth\":0,\"ticks\":\"\"}}],\"histogram2d\":[{\"type\":\"histogram2d\",\"colorbar\":{\"outlinewidth\":0,\"ticks\":\"\"},\"colorscale\":[[0.0,\"#0d0887\"],[0.1111111111111111,\"#46039f\"],[0.2222222222222222,\"#7201a8\"],[0.3333333333333333,\"#9c179e\"],[0.4444444444444444,\"#bd3786\"],[0.5555555555555556,\"#d8576b\"],[0.6666666666666666,\"#ed7953\"],[0.7777777777777778,\"#fb9f3a\"],[0.8888888888888888,\"#fdca26\"],[1.0,\"#f0f921\"]]}],\"heatmap\":[{\"type\":\"heatmap\",\"colorbar\":{\"outlinewidth\":0,\"ticks\":\"\"},\"colorscale\":[[0.0,\"#0d0887\"],[0.1111111111111111,\"#46039f\"],[0.2222222222222222,\"#7201a8\"],[0.3333333333333333,\"#9c179e\"],[0.4444444444444444,\"#bd3786\"],[0.5555555555555556,\"#d8576b\"],[0.6666666666666666,\"#ed7953\"],[0.7777777777777778,\"#fb9f3a\"],[0.8888888888888888,\"#fdca26\"],[1.0,\"#f0f921\"]]}],\"heatmapgl\":[{\"type\":\"heatmapgl\",\"colorbar\":{\"outlinewidth\":0,\"ticks\":\"\"},\"colorscale\":[[0.0,\"#0d0887\"],[0.1111111111111111,\"#46039f\"],[0.2222222222222222,\"#7201a8\"],[0.3333333333333333,\"#9c179e\"],[0.4444444444444444,\"#bd3786\"],[0.5555555555555556,\"#d8576b\"],[0.6666666666666666,\"#ed7953\"],[0.7777777777777778,\"#fb9f3a\"],[0.8888888888888888,\"#fdca26\"],[1.0,\"#f0f921\"]]}],\"contourcarpet\":[{\"type\":\"contourcarpet\",\"colorbar\":{\"outlinewidth\":0,\"ticks\":\"\"}}],\"contour\":[{\"type\":\"contour\",\"colorbar\":{\"outlinewidth\":0,\"ticks\":\"\"},\"colorscale\":[[0.0,\"#0d0887\"],[0.1111111111111111,\"#46039f\"],[0.2222222222222222,\"#7201a8\"],[0.3333333333333333,\"#9c179e\"],[0.4444444444444444,\"#bd3786\"],[0.5555555555555556,\"#d8576b\"],[0.6666666666666666,\"#ed7953\"],[0.7777777777777778,\"#fb9f3a\"],[0.8888888888888888,\"#fdca26\"],[1.0,\"#f0f921\"]]}],\"surface\":[{\"type\":\"surface\",\"colorbar\":{\"outlinewidth\":0,\"ticks\":\"\"},\"colorscale\":[[0.0,\"#0d0887\"],[0.1111111111111111,\"#46039f\"],[0.2222222222222222,\"#7201a8\"],[0.3333333333333333,\"#9c179e\"],[0.4444444444444444,\"#bd3786\"],[0.5555555555555556,\"#d8576b\"],[0.6666666666666666,\"#ed7953\"],[0.7777777777777778,\"#fb9f3a\"],[0.8888888888888888,\"#fdca26\"],[1.0,\"#f0f921\"]]}],\"mesh3d\":[{\"type\":\"mesh3d\",\"colorbar\":{\"outlinewidth\":0,\"ticks\":\"\"}}],\"scatter\":[{\"fillpattern\":{\"fillmode\":\"overlay\",\"size\":10,\"solidity\":0.2},\"type\":\"scatter\"}],\"parcoords\":[{\"type\":\"parcoords\",\"line\":{\"colorbar\":{\"outlinewidth\":0,\"ticks\":\"\"}}}],\"scatterpolargl\":[{\"type\":\"scatterpolargl\",\"marker\":{\"colorbar\":{\"outlinewidth\":0,\"ticks\":\"\"}}}],\"bar\":[{\"error_x\":{\"color\":\"#2a3f5f\"},\"error_y\":{\"color\":\"#2a3f5f\"},\"marker\":{\"line\":{\"color\":\"#E5ECF6\",\"width\":0.5},\"pattern\":{\"fillmode\":\"overlay\",\"size\":10,\"solidity\":0.2}},\"type\":\"bar\"}],\"scattergeo\":[{\"type\":\"scattergeo\",\"marker\":{\"colorbar\":{\"outlinewidth\":0,\"ticks\":\"\"}}}],\"scatterpolar\":[{\"type\":\"scatterpolar\",\"marker\":{\"colorbar\":{\"outlinewidth\":0,\"ticks\":\"\"}}}],\"histogram\":[{\"marker\":{\"pattern\":{\"fillmode\":\"overlay\",\"size\":10,\"solidity\":0.2}},\"type\":\"histogram\"}],\"scattergl\":[{\"type\":\"scattergl\",\"marker\":{\"colorbar\":{\"outlinewidth\":0,\"ticks\":\"\"}}}],\"scatter3d\":[{\"type\":\"scatter3d\",\"line\":{\"colorbar\":{\"outlinewidth\":0,\"ticks\":\"\"}},\"marker\":{\"colorbar\":{\"outlinewidth\":0,\"ticks\":\"\"}}}],\"scattermapbox\":[{\"type\":\"scattermapbox\",\"marker\":{\"colorbar\":{\"outlinewidth\":0,\"ticks\":\"\"}}}],\"scatterternary\":[{\"type\":\"scatterternary\",\"marker\":{\"colorbar\":{\"outlinewidth\":0,\"ticks\":\"\"}}}],\"scattercarpet\":[{\"type\":\"scattercarpet\",\"marker\":{\"colorbar\":{\"outlinewidth\":0,\"ticks\":\"\"}}}],\"carpet\":[{\"aaxis\":{\"endlinecolor\":\"#2a3f5f\",\"gridcolor\":\"white\",\"linecolor\":\"white\",\"minorgridcolor\":\"white\",\"startlinecolor\":\"#2a3f5f\"},\"baxis\":{\"endlinecolor\":\"#2a3f5f\",\"gridcolor\":\"white\",\"linecolor\":\"white\",\"minorgridcolor\":\"white\",\"startlinecolor\":\"#2a3f5f\"},\"type\":\"carpet\"}],\"table\":[{\"cells\":{\"fill\":{\"color\":\"#EBF0F8\"},\"line\":{\"color\":\"white\"}},\"header\":{\"fill\":{\"color\":\"#C8D4E3\"},\"line\":{\"color\":\"white\"}},\"type\":\"table\"}],\"barpolar\":[{\"marker\":{\"line\":{\"color\":\"#E5ECF6\",\"width\":0.5},\"pattern\":{\"fillmode\":\"overlay\",\"size\":10,\"solidity\":0.2}},\"type\":\"barpolar\"}],\"pie\":[{\"automargin\":true,\"type\":\"pie\"}]},\"layout\":{\"autotypenumbers\":\"strict\",\"colorway\":[\"#636efa\",\"#EF553B\",\"#00cc96\",\"#ab63fa\",\"#FFA15A\",\"#19d3f3\",\"#FF6692\",\"#B6E880\",\"#FF97FF\",\"#FECB52\"],\"font\":{\"color\":\"#2a3f5f\"},\"hovermode\":\"closest\",\"hoverlabel\":{\"align\":\"left\"},\"paper_bgcolor\":\"white\",\"plot_bgcolor\":\"#E5ECF6\",\"polar\":{\"bgcolor\":\"#E5ECF6\",\"angularaxis\":{\"gridcolor\":\"white\",\"linecolor\":\"white\",\"ticks\":\"\"},\"radialaxis\":{\"gridcolor\":\"white\",\"linecolor\":\"white\",\"ticks\":\"\"}},\"ternary\":{\"bgcolor\":\"#E5ECF6\",\"aaxis\":{\"gridcolor\":\"white\",\"linecolor\":\"white\",\"ticks\":\"\"},\"baxis\":{\"gridcolor\":\"white\",\"linecolor\":\"white\",\"ticks\":\"\"},\"caxis\":{\"gridcolor\":\"white\",\"linecolor\":\"white\",\"ticks\":\"\"}},\"coloraxis\":{\"colorbar\":{\"outlinewidth\":0,\"ticks\":\"\"}},\"colorscale\":{\"sequential\":[[0.0,\"#0d0887\"],[0.1111111111111111,\"#46039f\"],[0.2222222222222222,\"#7201a8\"],[0.3333333333333333,\"#9c179e\"],[0.4444444444444444,\"#bd3786\"],[0.5555555555555556,\"#d8576b\"],[0.6666666666666666,\"#ed7953\"],[0.7777777777777778,\"#fb9f3a\"],[0.8888888888888888,\"#fdca26\"],[1.0,\"#f0f921\"]],\"sequentialminus\":[[0.0,\"#0d0887\"],[0.1111111111111111,\"#46039f\"],[0.2222222222222222,\"#7201a8\"],[0.3333333333333333,\"#9c179e\"],[0.4444444444444444,\"#bd3786\"],[0.5555555555555556,\"#d8576b\"],[0.6666666666666666,\"#ed7953\"],[0.7777777777777778,\"#fb9f3a\"],[0.8888888888888888,\"#fdca26\"],[1.0,\"#f0f921\"]],\"diverging\":[[0,\"#8e0152\"],[0.1,\"#c51b7d\"],[0.2,\"#de77ae\"],[0.3,\"#f1b6da\"],[0.4,\"#fde0ef\"],[0.5,\"#f7f7f7\"],[0.6,\"#e6f5d0\"],[0.7,\"#b8e186\"],[0.8,\"#7fbc41\"],[0.9,\"#4d9221\"],[1,\"#276419\"]]},\"xaxis\":{\"gridcolor\":\"white\",\"linecolor\":\"white\",\"ticks\":\"\",\"title\":{\"standoff\":15},\"zerolinecolor\":\"white\",\"automargin\":true,\"zerolinewidth\":2},\"yaxis\":{\"gridcolor\":\"white\",\"linecolor\":\"white\",\"ticks\":\"\",\"title\":{\"standoff\":15},\"zerolinecolor\":\"white\",\"automargin\":true,\"zerolinewidth\":2},\"scene\":{\"xaxis\":{\"backgroundcolor\":\"#E5ECF6\",\"gridcolor\":\"white\",\"linecolor\":\"white\",\"showbackground\":true,\"ticks\":\"\",\"zerolinecolor\":\"white\",\"gridwidth\":2},\"yaxis\":{\"backgroundcolor\":\"#E5ECF6\",\"gridcolor\":\"white\",\"linecolor\":\"white\",\"showbackground\":true,\"ticks\":\"\",\"zerolinecolor\":\"white\",\"gridwidth\":2},\"zaxis\":{\"backgroundcolor\":\"#E5ECF6\",\"gridcolor\":\"white\",\"linecolor\":\"white\",\"showbackground\":true,\"ticks\":\"\",\"zerolinecolor\":\"white\",\"gridwidth\":2}},\"shapedefaults\":{\"line\":{\"color\":\"#2a3f5f\"}},\"annotationdefaults\":{\"arrowcolor\":\"#2a3f5f\",\"arrowhead\":0,\"arrowwidth\":1},\"geo\":{\"bgcolor\":\"white\",\"landcolor\":\"#E5ECF6\",\"subunitcolor\":\"white\",\"showland\":true,\"showlakes\":true,\"lakecolor\":\"white\"},\"title\":{\"x\":0.05},\"mapbox\":{\"style\":\"light\"}}},\"annotations\":[{\"font\":{\"size\":16},\"showarrow\":false,\"text\":\"Realized \\u003cb\\u003eRMSE\\u003c\\u002fb\\u003e\",\"x\":0.5,\"xanchor\":\"center\",\"xref\":\"paper\",\"y\":1.0,\"yanchor\":\"bottom\",\"yref\":\"paper\"},{\"showarrow\":false,\"text\":\"Reference\",\"x\":\"2016-12-11T12:00:00\",\"xref\":\"x\",\"xshift\":10,\"y\":1.01,\"yref\":\"y domain\"},{\"showarrow\":false,\"text\":\"Analysis\",\"x\":\"2016-12-23T12:00:00\",\"xref\":\"x\",\"xshift\":15,\"y\":1.01,\"yref\":\"y domain\"}],\"shapes\":[{\"layer\":\"below\",\"line\":{\"color\":\"#666666\",\"width\":1},\"type\":\"line\",\"x0\":\"2016-12-16T00:00:00\",\"x1\":\"2016-12-16T00:00:00\",\"xref\":\"x\",\"y0\":0,\"y1\":1,\"yref\":\"y domain\"}]},                        {\"responsive\": true}                    ).then(function(){\n",
              "                            \n",
              "var gd = document.getElementById('4824a305-0b0b-443f-a622-fba8d5499764');\n",
              "var x = new MutationObserver(function (mutations, observer) {{\n",
              "        var display = window.getComputedStyle(gd).display;\n",
              "        if (!display || display === 'none') {{\n",
              "            console.log([gd, 'removed!']);\n",
              "            Plotly.purge(gd);\n",
              "            observer.disconnect();\n",
              "        }}\n",
              "}});\n",
              "\n",
              "// Listen for the removal of the full notebook cells\n",
              "var notebookContainer = gd.closest('#notebook-container');\n",
              "if (notebookContainer) {{\n",
              "    x.observe(notebookContainer, {childList: true});\n",
              "}}\n",
              "\n",
              "// Listen for the clearing of the current output cell\n",
              "var outputEl = gd.closest('.output');\n",
              "if (outputEl) {{\n",
              "    x.observe(outputEl, {childList: true});\n",
              "}}\n",
              "\n",
              "                        })                };                            </script>        </div>\n",
              "</body>\n",
              "</html>"
            ]
          },
          "metadata": {}
        }
      ]
    },
    {
      "cell_type": "markdown",
      "source": [
        "**Compare the estimated performance wih realized performance**"
      ],
      "metadata": {
        "id": "USRRENbBPTTW"
      }
    },
    {
      "cell_type": "code",
      "source": [
        "realized_results.compare(results_estimator_dle).plot().show()"
      ],
      "metadata": {
        "colab": {
          "base_uri": "https://localhost:8080/",
          "height": 517
        },
        "id": "JdnhPhEUPZwZ",
        "outputId": "907f2ec1-7042-407c-a61b-7214e1aadfc7"
      },
      "execution_count": 104,
      "outputs": [
        {
          "output_type": "display_data",
          "data": {
            "text/html": [
              "<html>\n",
              "<head><meta charset=\"utf-8\" /></head>\n",
              "<body>\n",
              "    <div>            <script src=\"https://cdnjs.cloudflare.com/ajax/libs/mathjax/2.7.5/MathJax.js?config=TeX-AMS-MML_SVG\"></script><script type=\"text/javascript\">if (window.MathJax && window.MathJax.Hub && window.MathJax.Hub.Config) {window.MathJax.Hub.Config({SVG: {font: \"STIX-Web\"}});}</script>                <script type=\"text/javascript\">window.PlotlyConfig = {MathJaxConfig: 'local'};</script>\n",
              "        <script charset=\"utf-8\" src=\"https://cdn.plot.ly/plotly-2.24.1.min.js\"></script>                <div id=\"6b030de7-ee5c-43d2-be75-fdc4cae92a18\" class=\"plotly-graph-div\" style=\"height:500.0px; width:100%;\"></div>            <script type=\"text/javascript\">                                    window.PLOTLYENV=window.PLOTLYENV || {};                                    if (document.getElementById(\"6b030de7-ee5c-43d2-be75-fdc4cae92a18\")) {                    Plotly.newPlot(                        \"6b030de7-ee5c-43d2-be75-fdc4cae92a18\",                        [{\"hoverinfo\":\"skip\",\"line\":{\"color\":\"#00c8e5\",\"shape\":\"hv\",\"width\":2},\"mode\":\"lines\",\"name\":\"\\u003cb\\u003eRMSE\\u003c\\u002fb\\u003e (realized RMSE)\",\"showlegend\":true,\"x\":[\"2016-12-08T00:00:00\",\"2016-12-09T00:00:00\",\"2016-12-10T00:00:00\",\"2016-12-11T00:00:00\",\"2016-12-12T00:00:00\",\"2016-12-13T00:00:00\",\"2016-12-14T00:00:00\",\"2016-12-15T00:00:00\",\"2016-12-15T23:59:59.999999999\"],\"xaxis\":\"x\",\"y\":[2.5948856091552956,1.733859037215487,1.666518371582511,2.0528944962959637,2.6842425080584715,3.5302928548002934,4.485738449914107,2.5308791446388947,2.5308791446388947],\"yaxis\":\"y\",\"type\":\"scatter\"},{\"customdata\":[[\"\\u003cb\\u003eRMSE\\u003c\\u002fb\\u003e (realized RMSE)\",\"\\u003cb style=\\\"color:#00c8e5;line-height:60px\\\"\\u003eReference\\u003c\\u002fb\\u003e\",\"2016-12-08\",\"From \\u003cb\\u003eDec-08-2016\\u003c\\u002fb\\u003e to \\u003cb\\u003eDec-08-2016\\u003c\\u002fb\\u003e\",2.5949],[\"\\u003cb\\u003eRMSE\\u003c\\u002fb\\u003e (realized RMSE)\",\"\\u003cb style=\\\"color:#00c8e5;line-height:60px\\\"\\u003eReference\\u003c\\u002fb\\u003e\",\"2016-12-09\",\"From \\u003cb\\u003eDec-09-2016\\u003c\\u002fb\\u003e to \\u003cb\\u003eDec-09-2016\\u003c\\u002fb\\u003e\",1.7339],[\"\\u003cb\\u003eRMSE\\u003c\\u002fb\\u003e (realized RMSE)\",\"\\u003cb style=\\\"color:#00c8e5;line-height:60px\\\"\\u003eReference\\u003c\\u002fb\\u003e\",\"2016-12-10\",\"From \\u003cb\\u003eDec-10-2016\\u003c\\u002fb\\u003e to \\u003cb\\u003eDec-10-2016\\u003c\\u002fb\\u003e\",1.6665],[\"\\u003cb\\u003eRMSE\\u003c\\u002fb\\u003e (realized RMSE)\",\"\\u003cb style=\\\"color:#00c8e5;line-height:60px\\\"\\u003eReference\\u003c\\u002fb\\u003e\",\"2016-12-11\",\"From \\u003cb\\u003eDec-11-2016\\u003c\\u002fb\\u003e to \\u003cb\\u003eDec-11-2016\\u003c\\u002fb\\u003e\",2.0529],[\"\\u003cb\\u003eRMSE\\u003c\\u002fb\\u003e (realized RMSE)\",\"\\u003cb style=\\\"color:#00c8e5;line-height:60px\\\"\\u003eReference\\u003c\\u002fb\\u003e\",\"2016-12-12\",\"From \\u003cb\\u003eDec-12-2016\\u003c\\u002fb\\u003e to \\u003cb\\u003eDec-12-2016\\u003c\\u002fb\\u003e\",2.6842],[\"\\u003cb\\u003eRMSE\\u003c\\u002fb\\u003e (realized RMSE)\",\"\\u003cb style=\\\"color:#00c8e5;line-height:60px\\\"\\u003eReference\\u003c\\u002fb\\u003e\",\"2016-12-13\",\"From \\u003cb\\u003eDec-13-2016\\u003c\\u002fb\\u003e to \\u003cb\\u003eDec-13-2016\\u003c\\u002fb\\u003e\",3.5303],[\"\\u003cb\\u003eRMSE\\u003c\\u002fb\\u003e (realized RMSE)\",\"\\u003cb style=\\\"color:#00c8e5;line-height:60px\\\"\\u003eReference\\u003c\\u002fb\\u003e\",\"2016-12-14\",\"From \\u003cb\\u003eDec-14-2016\\u003c\\u002fb\\u003e to \\u003cb\\u003eDec-14-2016\\u003c\\u002fb\\u003e\",4.4857],[\"\\u003cb\\u003eRMSE\\u003c\\u002fb\\u003e (realized RMSE)\",\"\\u003cb style=\\\"color:#00c8e5;line-height:60px\\\"\\u003eReference\\u003c\\u002fb\\u003e\",\"2016-12-15\",\"From \\u003cb\\u003eDec-15-2016\\u003c\\u002fb\\u003e to \\u003cb\\u003eDec-15-2016\\u003c\\u002fb\\u003e\",2.5309]],\"hovertemplate\":\"%{customdata[1]}\\u003cbr \\u002f\\u003eChunk: \\u003cb\\u003e%{customdata[2]}\\u003c\\u002fb\\u003e &nbsp; &nbsp; %{customdata[3]} \\u003cbr \\u002f\\u003e%{customdata[0]}: \\u003cb\\u003e%{customdata[4]}\\u003c\\u002fb\\u003e\\u003cbr \\u002f\\u003e\\u003cextra\\u003e\\u003c\\u002fextra\\u003e\",\"marker\":{\"color\":\"#00c8e5\",\"size\":5,\"symbol\":\"circle\"},\"mode\":\"markers\",\"name\":\"\\u003cb\\u003eRMSE\\u003c\\u002fb\\u003e (realized RMSE)\",\"showlegend\":false,\"x\":[\"2016-12-08T12:00:00\",\"2016-12-09T12:00:00\",\"2016-12-10T12:00:00\",\"2016-12-11T12:00:00\",\"2016-12-12T12:00:00\",\"2016-12-13T12:00:00\",\"2016-12-14T12:00:00\",\"2016-12-15T11:59:59.999999999\"],\"xaxis\":\"x\",\"y\":[2.5948856091552956,1.733859037215487,1.666518371582511,2.0528944962959637,2.6842425080584715,3.5302928548002934,4.485738449914107,2.5308791446388947,2.5308791446388947],\"yaxis\":\"y\",\"type\":\"scatter\"},{\"hoverinfo\":\"skip\",\"line\":{\"color\":\"#3b0280\",\"dash\":\"dash\",\"shape\":\"hv\",\"width\":2},\"mode\":\"lines\",\"name\":\"\\u003cb\\u003eRMSE\\u003c\\u002fb\\u003e (estimated RMSE)\",\"showlegend\":true,\"x\":[\"2016-12-08T00:00:00\",\"2016-12-09T00:00:00\",\"2016-12-10T00:00:00\",\"2016-12-11T00:00:00\",\"2016-12-12T00:00:00\",\"2016-12-13T00:00:00\",\"2016-12-14T00:00:00\",\"2016-12-15T00:00:00\",\"2016-12-15T23:59:59.999999999\"],\"xaxis\":\"x\",\"y\":[2.761736426028118,2.765048301884522,2.7270429285408375,3.4003982573225957,3.179698231159692,3.37086848177936,3.4801999754354185,2.8843343670845782,2.8843343670845782],\"yaxis\":\"y\",\"type\":\"scatter\"},{\"customdata\":[[\"\\u003cb\\u003eRMSE\\u003c\\u002fb\\u003e\",\"\\u003cb style=\\\"color:#3b0280;line-height:60px\\\"\\u003eReference\\u003c\\u002fb\\u003e\",\"2016-12-08\",\"From \\u003cb\\u003eDec-08-2016\\u003c\\u002fb\\u003e to \\u003cb\\u003eDec-08-2016\\u003c\\u002fb\\u003e\",2.7617],[\"\\u003cb\\u003eRMSE\\u003c\\u002fb\\u003e\",\"\\u003cb style=\\\"color:#3b0280;line-height:60px\\\"\\u003eReference\\u003c\\u002fb\\u003e\",\"2016-12-09\",\"From \\u003cb\\u003eDec-09-2016\\u003c\\u002fb\\u003e to \\u003cb\\u003eDec-09-2016\\u003c\\u002fb\\u003e\",2.765],[\"\\u003cb\\u003eRMSE\\u003c\\u002fb\\u003e\",\"\\u003cb style=\\\"color:#3b0280;line-height:60px\\\"\\u003eReference\\u003c\\u002fb\\u003e\",\"2016-12-10\",\"From \\u003cb\\u003eDec-10-2016\\u003c\\u002fb\\u003e to \\u003cb\\u003eDec-10-2016\\u003c\\u002fb\\u003e\",2.727],[\"\\u003cb\\u003eRMSE\\u003c\\u002fb\\u003e\",\"\\u003cb style=\\\"color:#3b0280;line-height:60px\\\"\\u003eReference\\u003c\\u002fb\\u003e\",\"2016-12-11\",\"From \\u003cb\\u003eDec-11-2016\\u003c\\u002fb\\u003e to \\u003cb\\u003eDec-11-2016\\u003c\\u002fb\\u003e\",3.4004],[\"\\u003cb\\u003eRMSE\\u003c\\u002fb\\u003e\",\"\\u003cb style=\\\"color:#3b0280;line-height:60px\\\"\\u003eReference\\u003c\\u002fb\\u003e\",\"2016-12-12\",\"From \\u003cb\\u003eDec-12-2016\\u003c\\u002fb\\u003e to \\u003cb\\u003eDec-12-2016\\u003c\\u002fb\\u003e\",3.1797],[\"\\u003cb\\u003eRMSE\\u003c\\u002fb\\u003e\",\"\\u003cb style=\\\"color:#3b0280;line-height:60px\\\"\\u003eReference\\u003c\\u002fb\\u003e\",\"2016-12-13\",\"From \\u003cb\\u003eDec-13-2016\\u003c\\u002fb\\u003e to \\u003cb\\u003eDec-13-2016\\u003c\\u002fb\\u003e\",3.3709],[\"\\u003cb\\u003eRMSE\\u003c\\u002fb\\u003e\",\"\\u003cb style=\\\"color:#3b0280;line-height:60px\\\"\\u003eReference\\u003c\\u002fb\\u003e\",\"2016-12-14\",\"From \\u003cb\\u003eDec-14-2016\\u003c\\u002fb\\u003e to \\u003cb\\u003eDec-14-2016\\u003c\\u002fb\\u003e\",3.4802],[\"\\u003cb\\u003eRMSE\\u003c\\u002fb\\u003e\",\"\\u003cb style=\\\"color:#3b0280;line-height:60px\\\"\\u003eReference\\u003c\\u002fb\\u003e\",\"2016-12-15\",\"From \\u003cb\\u003eDec-15-2016\\u003c\\u002fb\\u003e to \\u003cb\\u003eDec-15-2016\\u003c\\u002fb\\u003e\",2.8843]],\"hovertemplate\":\"%{customdata[1]}\\u003cbr \\u002f\\u003eChunk: \\u003cb\\u003e%{customdata[2]}\\u003c\\u002fb\\u003e &nbsp; &nbsp; %{customdata[3]} \\u003cbr \\u002f\\u003e%{customdata[0]}: \\u003cb\\u003e%{customdata[4]}\\u003c\\u002fb\\u003e\\u003cbr \\u002f\\u003e\\u003cextra\\u003e\\u003c\\u002fextra\\u003e\",\"line\":{\"dash\":\"dash\"},\"marker\":{\"color\":\"#3b0280\",\"size\":5,\"symbol\":\"circle\"},\"mode\":\"markers\",\"name\":\"\\u003cb\\u003eRMSE\\u003c\\u002fb\\u003e (estimated RMSE)\",\"showlegend\":false,\"x\":[\"2016-12-08T12:00:00\",\"2016-12-09T12:00:00\",\"2016-12-10T12:00:00\",\"2016-12-11T12:00:00\",\"2016-12-12T12:00:00\",\"2016-12-13T12:00:00\",\"2016-12-14T12:00:00\",\"2016-12-15T11:59:59.999999999\"],\"xaxis\":\"x\",\"y\":[2.761736426028118,2.765048301884522,2.7270429285408375,3.4003982573225957,3.179698231159692,3.37086848177936,3.4801999754354185,2.8843343670845782,2.8843343670845782],\"yaxis\":\"y\",\"type\":\"scatter\"},{\"connectgaps\":true,\"hoverinfo\":\"skip\",\"line\":{\"color\":\"rgba(0,0,0,0)\",\"dash\":\"dash\",\"shape\":\"hv\"},\"mode\":\"lines\",\"name\":\"Confidence band\",\"showlegend\":false,\"x\":[\"2016-12-08T00:00:00\",\"2016-12-09T00:00:00\",\"2016-12-10T00:00:00\",\"2016-12-11T00:00:00\",\"2016-12-12T00:00:00\",\"2016-12-13T00:00:00\",\"2016-12-14T00:00:00\",\"2016-12-15T00:00:00\",\"2016-12-15T23:59:59.999999999\"],\"xaxis\":\"x\",\"y\":[5.405884007018757,5.186679703970004,5.013573909423046,6.027561356924309,6.087900496740907,6.22463164526282,6.172397778916457,5.32781551774343,5.32781551774343],\"yaxis\":\"y\",\"type\":\"scatter\"},{\"connectgaps\":true,\"fill\":\"tonexty\",\"fillcolor\":\"rgba(0.23137254901960785, 0.00784313725490196, 0.5019607843137255, 0.2)\",\"hoverinfo\":\"skip\",\"line\":{\"color\":\"rgba(0,0,0,0)\",\"dash\":\"dash\",\"shape\":\"hv\"},\"mode\":\"lines\",\"name\":\"Confidence band\",\"showlegend\":true,\"x\":[\"2016-12-08T00:00:00\",\"2016-12-09T00:00:00\",\"2016-12-10T00:00:00\",\"2016-12-11T00:00:00\",\"2016-12-12T00:00:00\",\"2016-12-13T00:00:00\",\"2016-12-14T00:00:00\",\"2016-12-15T00:00:00\",\"2016-12-15T23:59:59.999999999\"],\"xaxis\":\"x\",\"y\":[0.11758884503747957,0.34341689979903967,0.4405119476586292,0.7732351577208822,0.271495965578477,0.5171053182959007,0.7880021719543802,0.4408532164257264,0.4408532164257264],\"yaxis\":\"y\",\"type\":\"scatter\"},{\"hoverinfo\":\"skip\",\"line\":{\"color\":\"#00c8e5\",\"shape\":\"hv\",\"width\":2},\"mode\":\"lines\",\"name\":\"\\u003cb\\u003eRMSE\\u003c\\u002fb\\u003e (realized RMSE)\",\"showlegend\":false,\"x\":[\"2016-12-16T00:00:00\",\"2016-12-17T00:00:00\",\"2016-12-18T00:00:00\",\"2016-12-19T00:00:00\",\"2016-12-20T00:00:00\",\"2016-12-21T00:00:00\",\"2016-12-22T00:00:00\",\"2016-12-23T00:00:00\",\"2016-12-24T00:00:00\",\"2016-12-25T00:00:00\",\"2016-12-26T00:00:00\",\"2016-12-27T00:00:00\",\"2016-12-28T00:00:00\",\"2016-12-29T00:00:00\",\"2016-12-30T00:00:00\",\"2016-12-31T00:00:00\",\"2016-12-31T23:59:59.999999999\"],\"xaxis\":\"x\",\"y\":[1.97849448017598,1.9777339968294791,1.6713368173471248,2.231089779519368,1.762024743720832,1.9849069716382874,1.9810675123973212,2.1031352172696716,4.5289932665018,2.470836035076337,1.6483849541605666,1.735368798111514,2.137288072341681,1.7589900691107572,1.8929697802015553,1.7013729850484745,1.7013729850484745],\"yaxis\":\"y\",\"type\":\"scatter\"},{\"customdata\":[[\"\\u003cb\\u003eRMSE\\u003c\\u002fb\\u003e (realized RMSE)\",\"\\u003cb style=\\\"color:#00c8e5;line-height:60px\\\"\\u003eAnalysis\\u003c\\u002fb\\u003e\",\"\",\"2016-12-16\",\"From \\u003cb\\u003eDec-16-2016\\u003c\\u002fb\\u003e to \\u003cb\\u003eDec-16-2016\\u003c\\u002fb\\u003e\",1.9785],[\"\\u003cb\\u003eRMSE\\u003c\\u002fb\\u003e (realized RMSE)\",\"\\u003cb style=\\\"color:#00c8e5;line-height:60px\\\"\\u003eAnalysis\\u003c\\u002fb\\u003e\",\"\",\"2016-12-17\",\"From \\u003cb\\u003eDec-17-2016\\u003c\\u002fb\\u003e to \\u003cb\\u003eDec-17-2016\\u003c\\u002fb\\u003e\",1.9777],[\"\\u003cb\\u003eRMSE\\u003c\\u002fb\\u003e (realized RMSE)\",\"\\u003cb style=\\\"color:#00c8e5;line-height:60px\\\"\\u003eAnalysis\\u003c\\u002fb\\u003e\",\"\",\"2016-12-18\",\"From \\u003cb\\u003eDec-18-2016\\u003c\\u002fb\\u003e to \\u003cb\\u003eDec-18-2016\\u003c\\u002fb\\u003e\",1.6713],[\"\\u003cb\\u003eRMSE\\u003c\\u002fb\\u003e (realized RMSE)\",\"\\u003cb style=\\\"color:#00c8e5;line-height:60px\\\"\\u003eAnalysis\\u003c\\u002fb\\u003e\",\"\",\"2016-12-19\",\"From \\u003cb\\u003eDec-19-2016\\u003c\\u002fb\\u003e to \\u003cb\\u003eDec-19-2016\\u003c\\u002fb\\u003e\",2.2311],[\"\\u003cb\\u003eRMSE\\u003c\\u002fb\\u003e (realized RMSE)\",\"\\u003cb style=\\\"color:#00c8e5;line-height:60px\\\"\\u003eAnalysis\\u003c\\u002fb\\u003e\",\"\",\"2016-12-20\",\"From \\u003cb\\u003eDec-20-2016\\u003c\\u002fb\\u003e to \\u003cb\\u003eDec-20-2016\\u003c\\u002fb\\u003e\",1.762],[\"\\u003cb\\u003eRMSE\\u003c\\u002fb\\u003e (realized RMSE)\",\"\\u003cb style=\\\"color:#00c8e5;line-height:60px\\\"\\u003eAnalysis\\u003c\\u002fb\\u003e\",\"\",\"2016-12-21\",\"From \\u003cb\\u003eDec-21-2016\\u003c\\u002fb\\u003e to \\u003cb\\u003eDec-21-2016\\u003c\\u002fb\\u003e\",1.9849],[\"\\u003cb\\u003eRMSE\\u003c\\u002fb\\u003e (realized RMSE)\",\"\\u003cb style=\\\"color:#00c8e5;line-height:60px\\\"\\u003eAnalysis\\u003c\\u002fb\\u003e\",\"\",\"2016-12-22\",\"From \\u003cb\\u003eDec-22-2016\\u003c\\u002fb\\u003e to \\u003cb\\u003eDec-22-2016\\u003c\\u002fb\\u003e\",1.9811],[\"\\u003cb\\u003eRMSE\\u003c\\u002fb\\u003e (realized RMSE)\",\"\\u003cb style=\\\"color:#00c8e5;line-height:60px\\\"\\u003eAnalysis\\u003c\\u002fb\\u003e\",\"\",\"2016-12-23\",\"From \\u003cb\\u003eDec-23-2016\\u003c\\u002fb\\u003e to \\u003cb\\u003eDec-23-2016\\u003c\\u002fb\\u003e\",2.1031],[\"\\u003cb\\u003eRMSE\\u003c\\u002fb\\u003e (realized RMSE)\",\"\\u003cb style=\\\"color:#00c8e5;line-height:60px\\\"\\u003eAnalysis\\u003c\\u002fb\\u003e\",\"\",\"2016-12-24\",\"From \\u003cb\\u003eDec-24-2016\\u003c\\u002fb\\u003e to \\u003cb\\u003eDec-24-2016\\u003c\\u002fb\\u003e\",4.529],[\"\\u003cb\\u003eRMSE\\u003c\\u002fb\\u003e (realized RMSE)\",\"\\u003cb style=\\\"color:#00c8e5;line-height:60px\\\"\\u003eAnalysis\\u003c\\u002fb\\u003e\",\"\",\"2016-12-25\",\"From \\u003cb\\u003eDec-25-2016\\u003c\\u002fb\\u003e to \\u003cb\\u003eDec-25-2016\\u003c\\u002fb\\u003e\",2.4708],[\"\\u003cb\\u003eRMSE\\u003c\\u002fb\\u003e (realized RMSE)\",\"\\u003cb style=\\\"color:#00c8e5;line-height:60px\\\"\\u003eAnalysis\\u003c\\u002fb\\u003e\",\"\",\"2016-12-26\",\"From \\u003cb\\u003eDec-26-2016\\u003c\\u002fb\\u003e to \\u003cb\\u003eDec-26-2016\\u003c\\u002fb\\u003e\",1.6484],[\"\\u003cb\\u003eRMSE\\u003c\\u002fb\\u003e (realized RMSE)\",\"\\u003cb style=\\\"color:#00c8e5;line-height:60px\\\"\\u003eAnalysis\\u003c\\u002fb\\u003e\",\"\",\"2016-12-27\",\"From \\u003cb\\u003eDec-27-2016\\u003c\\u002fb\\u003e to \\u003cb\\u003eDec-27-2016\\u003c\\u002fb\\u003e\",1.7354],[\"\\u003cb\\u003eRMSE\\u003c\\u002fb\\u003e (realized RMSE)\",\"\\u003cb style=\\\"color:#00c8e5;line-height:60px\\\"\\u003eAnalysis\\u003c\\u002fb\\u003e\",\"\",\"2016-12-28\",\"From \\u003cb\\u003eDec-28-2016\\u003c\\u002fb\\u003e to \\u003cb\\u003eDec-28-2016\\u003c\\u002fb\\u003e\",2.1373],[\"\\u003cb\\u003eRMSE\\u003c\\u002fb\\u003e (realized RMSE)\",\"\\u003cb style=\\\"color:#00c8e5;line-height:60px\\\"\\u003eAnalysis\\u003c\\u002fb\\u003e\",\"\",\"2016-12-29\",\"From \\u003cb\\u003eDec-29-2016\\u003c\\u002fb\\u003e to \\u003cb\\u003eDec-29-2016\\u003c\\u002fb\\u003e\",1.759],[\"\\u003cb\\u003eRMSE\\u003c\\u002fb\\u003e (realized RMSE)\",\"\\u003cb style=\\\"color:#00c8e5;line-height:60px\\\"\\u003eAnalysis\\u003c\\u002fb\\u003e\",\"\",\"2016-12-30\",\"From \\u003cb\\u003eDec-30-2016\\u003c\\u002fb\\u003e to \\u003cb\\u003eDec-30-2016\\u003c\\u002fb\\u003e\",1.893],[\"\\u003cb\\u003eRMSE\\u003c\\u002fb\\u003e (realized RMSE)\",\"\\u003cb style=\\\"color:#00c8e5;line-height:60px\\\"\\u003eAnalysis\\u003c\\u002fb\\u003e\",\"\",\"2016-12-31\",\"From \\u003cb\\u003eDec-31-2016\\u003c\\u002fb\\u003e to \\u003cb\\u003eDec-31-2016\\u003c\\u002fb\\u003e\",1.7014]],\"hovertemplate\":\"%{customdata[1]} &nbsp; &nbsp; %{customdata[2]} \\u003cbr \\u002f\\u003eChunk: \\u003cb\\u003e%{customdata[3]}\\u003c\\u002fb\\u003e &nbsp; &nbsp; %{customdata[4]} \\u003cbr \\u002f\\u003e%{customdata[0]}: \\u003cb\\u003e%{customdata[5]}\\u003c\\u002fb\\u003e\\u003cbr \\u002f\\u003e\\u003cextra\\u003e\\u003c\\u002fextra\\u003e\",\"marker\":{\"color\":\"#00c8e5\",\"size\":5,\"symbol\":\"circle\"},\"mode\":\"markers\",\"name\":\"\\u003cb\\u003eRMSE\\u003c\\u002fb\\u003e (realized RMSE)\",\"showlegend\":false,\"x\":[\"2016-12-16T12:00:00\",\"2016-12-17T12:00:00\",\"2016-12-18T12:00:00\",\"2016-12-19T12:00:00\",\"2016-12-20T12:00:00\",\"2016-12-21T12:00:00\",\"2016-12-22T12:00:00\",\"2016-12-23T12:00:00\",\"2016-12-24T12:00:00\",\"2016-12-25T12:00:00\",\"2016-12-26T12:00:00\",\"2016-12-27T12:00:00\",\"2016-12-28T12:00:00\",\"2016-12-29T12:00:00\",\"2016-12-30T12:00:00\",\"2016-12-31T11:59:59.999999999\"],\"xaxis\":\"x\",\"y\":[1.97849448017598,1.9777339968294791,1.6713368173471248,2.231089779519368,1.762024743720832,1.9849069716382874,1.9810675123973212,2.1031352172696716,4.5289932665018,2.470836035076337,1.6483849541605666,1.735368798111514,2.137288072341681,1.7589900691107572,1.8929697802015553,1.7013729850484745,1.7013729850484745],\"yaxis\":\"y\",\"type\":\"scatter\"},{\"hoverinfo\":\"skip\",\"line\":{\"color\":\"#3b0280\",\"dash\":\"dash\",\"shape\":\"hv\",\"width\":2},\"mode\":\"lines\",\"name\":\"\\u003cb\\u003eRMSE\\u003c\\u002fb\\u003e (estimated RMSE)\",\"showlegend\":false,\"x\":[\"2016-12-16T00:00:00\",\"2016-12-17T00:00:00\",\"2016-12-18T00:00:00\",\"2016-12-19T00:00:00\",\"2016-12-20T00:00:00\",\"2016-12-21T00:00:00\",\"2016-12-22T00:00:00\",\"2016-12-23T00:00:00\",\"2016-12-24T00:00:00\",\"2016-12-25T00:00:00\",\"2016-12-26T00:00:00\",\"2016-12-27T00:00:00\",\"2016-12-28T00:00:00\",\"2016-12-29T00:00:00\",\"2016-12-30T00:00:00\",\"2016-12-31T00:00:00\",\"2016-12-31T23:59:59.999999999\"],\"xaxis\":\"x\",\"y\":[3.239112119184896,3.1144100468017624,2.9861952369768576,2.9920823359198003,3.1508363800087142,2.9950629400539195,3.398311888035182,3.573231895354922,3.675360599771772,3.248150441076129,3.1033522040448602,3.8750507080042973,3.7806208194466118,2.9349377769389107,3.03193724076072,2.7463353647800806,2.7463353647800806],\"yaxis\":\"y\",\"type\":\"scatter\"},{\"customdata\":[[\"\\u003cb\\u003eRMSE\\u003c\\u002fb\\u003e\",\"\\u003cb style=\\\"color:#3b0280;line-height:60px\\\"\\u003eAnalysis\\u003c\\u002fb\\u003e\",\"\",\"2016-12-16\",\"From \\u003cb\\u003eDec-16-2016\\u003c\\u002fb\\u003e to \\u003cb\\u003eDec-16-2016\\u003c\\u002fb\\u003e\",3.2391],[\"\\u003cb\\u003eRMSE\\u003c\\u002fb\\u003e\",\"\\u003cb style=\\\"color:#3b0280;line-height:60px\\\"\\u003eAnalysis\\u003c\\u002fb\\u003e\",\"\",\"2016-12-17\",\"From \\u003cb\\u003eDec-17-2016\\u003c\\u002fb\\u003e to \\u003cb\\u003eDec-17-2016\\u003c\\u002fb\\u003e\",3.1144],[\"\\u003cb\\u003eRMSE\\u003c\\u002fb\\u003e\",\"\\u003cb style=\\\"color:#3b0280;line-height:60px\\\"\\u003eAnalysis\\u003c\\u002fb\\u003e\",\"\",\"2016-12-18\",\"From \\u003cb\\u003eDec-18-2016\\u003c\\u002fb\\u003e to \\u003cb\\u003eDec-18-2016\\u003c\\u002fb\\u003e\",2.9862],[\"\\u003cb\\u003eRMSE\\u003c\\u002fb\\u003e\",\"\\u003cb style=\\\"color:#3b0280;line-height:60px\\\"\\u003eAnalysis\\u003c\\u002fb\\u003e\",\"\",\"2016-12-19\",\"From \\u003cb\\u003eDec-19-2016\\u003c\\u002fb\\u003e to \\u003cb\\u003eDec-19-2016\\u003c\\u002fb\\u003e\",2.9921],[\"\\u003cb\\u003eRMSE\\u003c\\u002fb\\u003e\",\"\\u003cb style=\\\"color:#3b0280;line-height:60px\\\"\\u003eAnalysis\\u003c\\u002fb\\u003e\",\"\",\"2016-12-20\",\"From \\u003cb\\u003eDec-20-2016\\u003c\\u002fb\\u003e to \\u003cb\\u003eDec-20-2016\\u003c\\u002fb\\u003e\",3.1508],[\"\\u003cb\\u003eRMSE\\u003c\\u002fb\\u003e\",\"\\u003cb style=\\\"color:#3b0280;line-height:60px\\\"\\u003eAnalysis\\u003c\\u002fb\\u003e\",\"\",\"2016-12-21\",\"From \\u003cb\\u003eDec-21-2016\\u003c\\u002fb\\u003e to \\u003cb\\u003eDec-21-2016\\u003c\\u002fb\\u003e\",2.9951],[\"\\u003cb\\u003eRMSE\\u003c\\u002fb\\u003e\",\"\\u003cb style=\\\"color:#3b0280;line-height:60px\\\"\\u003eAnalysis\\u003c\\u002fb\\u003e\",\"\",\"2016-12-22\",\"From \\u003cb\\u003eDec-22-2016\\u003c\\u002fb\\u003e to \\u003cb\\u003eDec-22-2016\\u003c\\u002fb\\u003e\",3.3983],[\"\\u003cb\\u003eRMSE\\u003c\\u002fb\\u003e\",\"\\u003cb style=\\\"color:#3b0280;line-height:60px\\\"\\u003eAnalysis\\u003c\\u002fb\\u003e\",\"\",\"2016-12-23\",\"From \\u003cb\\u003eDec-23-2016\\u003c\\u002fb\\u003e to \\u003cb\\u003eDec-23-2016\\u003c\\u002fb\\u003e\",3.5732],[\"\\u003cb\\u003eRMSE\\u003c\\u002fb\\u003e\",\"\\u003cb style=\\\"color:#3b0280;line-height:60px\\\"\\u003eAnalysis\\u003c\\u002fb\\u003e\",\"\",\"2016-12-24\",\"From \\u003cb\\u003eDec-24-2016\\u003c\\u002fb\\u003e to \\u003cb\\u003eDec-24-2016\\u003c\\u002fb\\u003e\",3.6754],[\"\\u003cb\\u003eRMSE\\u003c\\u002fb\\u003e\",\"\\u003cb style=\\\"color:#3b0280;line-height:60px\\\"\\u003eAnalysis\\u003c\\u002fb\\u003e\",\"\",\"2016-12-25\",\"From \\u003cb\\u003eDec-25-2016\\u003c\\u002fb\\u003e to \\u003cb\\u003eDec-25-2016\\u003c\\u002fb\\u003e\",3.2482],[\"\\u003cb\\u003eRMSE\\u003c\\u002fb\\u003e\",\"\\u003cb style=\\\"color:#3b0280;line-height:60px\\\"\\u003eAnalysis\\u003c\\u002fb\\u003e\",\"\",\"2016-12-26\",\"From \\u003cb\\u003eDec-26-2016\\u003c\\u002fb\\u003e to \\u003cb\\u003eDec-26-2016\\u003c\\u002fb\\u003e\",3.1034],[\"\\u003cb\\u003eRMSE\\u003c\\u002fb\\u003e\",\"\\u003cb style=\\\"color:#3b0280;line-height:60px\\\"\\u003eAnalysis\\u003c\\u002fb\\u003e\",\"\",\"2016-12-27\",\"From \\u003cb\\u003eDec-27-2016\\u003c\\u002fb\\u003e to \\u003cb\\u003eDec-27-2016\\u003c\\u002fb\\u003e\",3.8751],[\"\\u003cb\\u003eRMSE\\u003c\\u002fb\\u003e\",\"\\u003cb style=\\\"color:#3b0280;line-height:60px\\\"\\u003eAnalysis\\u003c\\u002fb\\u003e\",\"\",\"2016-12-28\",\"From \\u003cb\\u003eDec-28-2016\\u003c\\u002fb\\u003e to \\u003cb\\u003eDec-28-2016\\u003c\\u002fb\\u003e\",3.7806],[\"\\u003cb\\u003eRMSE\\u003c\\u002fb\\u003e\",\"\\u003cb style=\\\"color:#3b0280;line-height:60px\\\"\\u003eAnalysis\\u003c\\u002fb\\u003e\",\"\",\"2016-12-29\",\"From \\u003cb\\u003eDec-29-2016\\u003c\\u002fb\\u003e to \\u003cb\\u003eDec-29-2016\\u003c\\u002fb\\u003e\",2.9349],[\"\\u003cb\\u003eRMSE\\u003c\\u002fb\\u003e\",\"\\u003cb style=\\\"color:#3b0280;line-height:60px\\\"\\u003eAnalysis\\u003c\\u002fb\\u003e\",\"\",\"2016-12-30\",\"From \\u003cb\\u003eDec-30-2016\\u003c\\u002fb\\u003e to \\u003cb\\u003eDec-30-2016\\u003c\\u002fb\\u003e\",3.0319],[\"\\u003cb\\u003eRMSE\\u003c\\u002fb\\u003e\",\"\\u003cb style=\\\"color:#3b0280;line-height:60px\\\"\\u003eAnalysis\\u003c\\u002fb\\u003e\",\"\",\"2016-12-31\",\"From \\u003cb\\u003eDec-31-2016\\u003c\\u002fb\\u003e to \\u003cb\\u003eDec-31-2016\\u003c\\u002fb\\u003e\",2.7463]],\"hovertemplate\":\"%{customdata[1]} &nbsp; &nbsp; %{customdata[2]} \\u003cbr \\u002f\\u003eChunk: \\u003cb\\u003e%{customdata[3]}\\u003c\\u002fb\\u003e &nbsp; &nbsp; %{customdata[4]} \\u003cbr \\u002f\\u003e%{customdata[0]}: \\u003cb\\u003e%{customdata[5]}\\u003c\\u002fb\\u003e\\u003cbr \\u002f\\u003e\\u003cextra\\u003e\\u003c\\u002fextra\\u003e\",\"line\":{\"dash\":\"dash\"},\"marker\":{\"color\":\"#3b0280\",\"size\":5,\"symbol\":\"circle\"},\"mode\":\"markers\",\"name\":\"\\u003cb\\u003eRMSE\\u003c\\u002fb\\u003e (estimated RMSE)\",\"showlegend\":false,\"x\":[\"2016-12-16T12:00:00\",\"2016-12-17T12:00:00\",\"2016-12-18T12:00:00\",\"2016-12-19T12:00:00\",\"2016-12-20T12:00:00\",\"2016-12-21T12:00:00\",\"2016-12-22T12:00:00\",\"2016-12-23T12:00:00\",\"2016-12-24T12:00:00\",\"2016-12-25T12:00:00\",\"2016-12-26T12:00:00\",\"2016-12-27T12:00:00\",\"2016-12-28T12:00:00\",\"2016-12-29T12:00:00\",\"2016-12-30T12:00:00\",\"2016-12-31T11:59:59.999999999\"],\"xaxis\":\"x\",\"y\":[3.239112119184896,3.1144100468017624,2.9861952369768576,2.9920823359198003,3.1508363800087142,2.9950629400539195,3.398311888035182,3.573231895354922,3.675360599771772,3.248150441076129,3.1033522040448602,3.8750507080042973,3.7806208194466118,2.9349377769389107,3.03193724076072,2.7463353647800806,2.7463353647800806],\"yaxis\":\"y\",\"type\":\"scatter\"},{\"connectgaps\":true,\"hoverinfo\":\"skip\",\"line\":{\"color\":\"rgba(0,0,0,0)\",\"dash\":\"dash\",\"shape\":\"hv\"},\"mode\":\"lines\",\"name\":\"Confidence band\",\"showlegend\":false,\"x\":[\"2016-12-16T00:00:00\",\"2016-12-17T00:00:00\",\"2016-12-18T00:00:00\",\"2016-12-19T00:00:00\",\"2016-12-20T00:00:00\",\"2016-12-21T00:00:00\",\"2016-12-22T00:00:00\",\"2016-12-23T00:00:00\",\"2016-12-24T00:00:00\",\"2016-12-25T00:00:00\",\"2016-12-26T00:00:00\",\"2016-12-27T00:00:00\",\"2016-12-28T00:00:00\",\"2016-12-29T00:00:00\",\"2016-12-30T00:00:00\",\"2016-12-31T00:00:00\",\"2016-12-31T23:59:59.999999999\"],\"xaxis\":\"x\",\"y\":[5.582109157779026,5.518274287398963,5.5937015883306955,5.834157683068225,5.942038517580526,5.757377343910321,6.151781202247548,6.353495249611459,6.785310409401693,7.2511243128470095,7.017418116976641,7.469044103153834,7.069843969107628,6.118443862381628,5.967486675459556,5.461871542443924,5.461871542443924],\"yaxis\":\"y\",\"type\":\"scatter\"},{\"connectgaps\":true,\"fill\":\"tonexty\",\"fillcolor\":\"rgba(0.23137254901960785, 0.00784313725490196, 0.5019607843137255, 0.2)\",\"hoverinfo\":\"skip\",\"line\":{\"color\":\"rgba(0,0,0,0)\",\"dash\":\"dash\",\"shape\":\"hv\"},\"mode\":\"lines\",\"name\":\"Confidence band\",\"showlegend\":false,\"x\":[\"2016-12-16T00:00:00\",\"2016-12-17T00:00:00\",\"2016-12-18T00:00:00\",\"2016-12-19T00:00:00\",\"2016-12-20T00:00:00\",\"2016-12-21T00:00:00\",\"2016-12-22T00:00:00\",\"2016-12-23T00:00:00\",\"2016-12-24T00:00:00\",\"2016-12-25T00:00:00\",\"2016-12-26T00:00:00\",\"2016-12-27T00:00:00\",\"2016-12-28T00:00:00\",\"2016-12-29T00:00:00\",\"2016-12-30T00:00:00\",\"2016-12-31T00:00:00\",\"2016-12-31T23:59:59.999999999\"],\"xaxis\":\"x\",\"y\":[0.8961150805907665,0.7105458062045611,0.3786888856230193,0.1500069887713753,0.3596342424369019,0.2327485361975179,0.6448425738228161,0.7929685410983844,0.5654107901418515,0.0,0.0,0.28105731285476,0.49139766978559596,0.0,0.09638780606188391,0.030799187116237192,0.030799187116237192],\"yaxis\":\"y\",\"type\":\"scatter\"},{\"hoverinfo\":\"skip\",\"legendgroup\":\"alert\",\"marker\":{\"color\":\"#DD4040\",\"size\":8,\"symbol\":\"diamond\"},\"mode\":\"markers\",\"name\":\"Alert\",\"showlegend\":true,\"x\":[],\"xaxis\":\"x\",\"y\":[],\"yaxis\":\"y\",\"type\":\"scatter\"},{\"hoverinfo\":\"skip\",\"legendgroup\":\"alert\",\"marker\":{\"color\":\"#DD4040\",\"size\":8,\"symbol\":\"diamond\"},\"mode\":\"markers\",\"name\":\"Alert\",\"showlegend\":false,\"x\":[],\"xaxis\":\"x\",\"y\":[],\"yaxis\":\"y\",\"type\":\"scatter\"}],                        {\"height\":500.0,\"hoverlabel\":{\"bgcolor\":\"white\",\"font\":{\"size\":14}},\"legend\":{\"itemclick\":false,\"itemdoubleclick\":false,\"traceorder\":\"grouped\"},\"paper_bgcolor\":\"rgba(255,255,255,1)\",\"plot_bgcolor\":\"rgba(255,255,255,1)\",\"title\":{\"text\":\"\\u003cb\\u003eRealized performance\\u003c\\u002fb\\u003e vs. \\u003cb\\u003eEstimated performance (DLE)\\u003c\\u002fb\\u003e\"},\"xaxis\":{\"linecolor\":\"#3b0280\",\"mirror\":true,\"showgrid\":false,\"title\":{\"text\":\"Time\"},\"zeroline\":false,\"anchor\":\"y\",\"domain\":[0.0,0.94],\"matches\":\"x\"},\"yaxis\":{\"linecolor\":\"#3b0280\",\"mirror\":true,\"showgrid\":false,\"title\":{\"text\":\"\\u003cb\\u003eRMSE\\u003c\\u002fb\\u003e\"},\"zeroline\":false,\"anchor\":\"x\",\"domain\":[0.0,1.0]},\"template\":{\"data\":{\"histogram2dcontour\":[{\"type\":\"histogram2dcontour\",\"colorbar\":{\"outlinewidth\":0,\"ticks\":\"\"},\"colorscale\":[[0.0,\"#0d0887\"],[0.1111111111111111,\"#46039f\"],[0.2222222222222222,\"#7201a8\"],[0.3333333333333333,\"#9c179e\"],[0.4444444444444444,\"#bd3786\"],[0.5555555555555556,\"#d8576b\"],[0.6666666666666666,\"#ed7953\"],[0.7777777777777778,\"#fb9f3a\"],[0.8888888888888888,\"#fdca26\"],[1.0,\"#f0f921\"]]}],\"choropleth\":[{\"type\":\"choropleth\",\"colorbar\":{\"outlinewidth\":0,\"ticks\":\"\"}}],\"histogram2d\":[{\"type\":\"histogram2d\",\"colorbar\":{\"outlinewidth\":0,\"ticks\":\"\"},\"colorscale\":[[0.0,\"#0d0887\"],[0.1111111111111111,\"#46039f\"],[0.2222222222222222,\"#7201a8\"],[0.3333333333333333,\"#9c179e\"],[0.4444444444444444,\"#bd3786\"],[0.5555555555555556,\"#d8576b\"],[0.6666666666666666,\"#ed7953\"],[0.7777777777777778,\"#fb9f3a\"],[0.8888888888888888,\"#fdca26\"],[1.0,\"#f0f921\"]]}],\"heatmap\":[{\"type\":\"heatmap\",\"colorbar\":{\"outlinewidth\":0,\"ticks\":\"\"},\"colorscale\":[[0.0,\"#0d0887\"],[0.1111111111111111,\"#46039f\"],[0.2222222222222222,\"#7201a8\"],[0.3333333333333333,\"#9c179e\"],[0.4444444444444444,\"#bd3786\"],[0.5555555555555556,\"#d8576b\"],[0.6666666666666666,\"#ed7953\"],[0.7777777777777778,\"#fb9f3a\"],[0.8888888888888888,\"#fdca26\"],[1.0,\"#f0f921\"]]}],\"heatmapgl\":[{\"type\":\"heatmapgl\",\"colorbar\":{\"outlinewidth\":0,\"ticks\":\"\"},\"colorscale\":[[0.0,\"#0d0887\"],[0.1111111111111111,\"#46039f\"],[0.2222222222222222,\"#7201a8\"],[0.3333333333333333,\"#9c179e\"],[0.4444444444444444,\"#bd3786\"],[0.5555555555555556,\"#d8576b\"],[0.6666666666666666,\"#ed7953\"],[0.7777777777777778,\"#fb9f3a\"],[0.8888888888888888,\"#fdca26\"],[1.0,\"#f0f921\"]]}],\"contourcarpet\":[{\"type\":\"contourcarpet\",\"colorbar\":{\"outlinewidth\":0,\"ticks\":\"\"}}],\"contour\":[{\"type\":\"contour\",\"colorbar\":{\"outlinewidth\":0,\"ticks\":\"\"},\"colorscale\":[[0.0,\"#0d0887\"],[0.1111111111111111,\"#46039f\"],[0.2222222222222222,\"#7201a8\"],[0.3333333333333333,\"#9c179e\"],[0.4444444444444444,\"#bd3786\"],[0.5555555555555556,\"#d8576b\"],[0.6666666666666666,\"#ed7953\"],[0.7777777777777778,\"#fb9f3a\"],[0.8888888888888888,\"#fdca26\"],[1.0,\"#f0f921\"]]}],\"surface\":[{\"type\":\"surface\",\"colorbar\":{\"outlinewidth\":0,\"ticks\":\"\"},\"colorscale\":[[0.0,\"#0d0887\"],[0.1111111111111111,\"#46039f\"],[0.2222222222222222,\"#7201a8\"],[0.3333333333333333,\"#9c179e\"],[0.4444444444444444,\"#bd3786\"],[0.5555555555555556,\"#d8576b\"],[0.6666666666666666,\"#ed7953\"],[0.7777777777777778,\"#fb9f3a\"],[0.8888888888888888,\"#fdca26\"],[1.0,\"#f0f921\"]]}],\"mesh3d\":[{\"type\":\"mesh3d\",\"colorbar\":{\"outlinewidth\":0,\"ticks\":\"\"}}],\"scatter\":[{\"fillpattern\":{\"fillmode\":\"overlay\",\"size\":10,\"solidity\":0.2},\"type\":\"scatter\"}],\"parcoords\":[{\"type\":\"parcoords\",\"line\":{\"colorbar\":{\"outlinewidth\":0,\"ticks\":\"\"}}}],\"scatterpolargl\":[{\"type\":\"scatterpolargl\",\"marker\":{\"colorbar\":{\"outlinewidth\":0,\"ticks\":\"\"}}}],\"bar\":[{\"error_x\":{\"color\":\"#2a3f5f\"},\"error_y\":{\"color\":\"#2a3f5f\"},\"marker\":{\"line\":{\"color\":\"#E5ECF6\",\"width\":0.5},\"pattern\":{\"fillmode\":\"overlay\",\"size\":10,\"solidity\":0.2}},\"type\":\"bar\"}],\"scattergeo\":[{\"type\":\"scattergeo\",\"marker\":{\"colorbar\":{\"outlinewidth\":0,\"ticks\":\"\"}}}],\"scatterpolar\":[{\"type\":\"scatterpolar\",\"marker\":{\"colorbar\":{\"outlinewidth\":0,\"ticks\":\"\"}}}],\"histogram\":[{\"marker\":{\"pattern\":{\"fillmode\":\"overlay\",\"size\":10,\"solidity\":0.2}},\"type\":\"histogram\"}],\"scattergl\":[{\"type\":\"scattergl\",\"marker\":{\"colorbar\":{\"outlinewidth\":0,\"ticks\":\"\"}}}],\"scatter3d\":[{\"type\":\"scatter3d\",\"line\":{\"colorbar\":{\"outlinewidth\":0,\"ticks\":\"\"}},\"marker\":{\"colorbar\":{\"outlinewidth\":0,\"ticks\":\"\"}}}],\"scattermapbox\":[{\"type\":\"scattermapbox\",\"marker\":{\"colorbar\":{\"outlinewidth\":0,\"ticks\":\"\"}}}],\"scatterternary\":[{\"type\":\"scatterternary\",\"marker\":{\"colorbar\":{\"outlinewidth\":0,\"ticks\":\"\"}}}],\"scattercarpet\":[{\"type\":\"scattercarpet\",\"marker\":{\"colorbar\":{\"outlinewidth\":0,\"ticks\":\"\"}}}],\"carpet\":[{\"aaxis\":{\"endlinecolor\":\"#2a3f5f\",\"gridcolor\":\"white\",\"linecolor\":\"white\",\"minorgridcolor\":\"white\",\"startlinecolor\":\"#2a3f5f\"},\"baxis\":{\"endlinecolor\":\"#2a3f5f\",\"gridcolor\":\"white\",\"linecolor\":\"white\",\"minorgridcolor\":\"white\",\"startlinecolor\":\"#2a3f5f\"},\"type\":\"carpet\"}],\"table\":[{\"cells\":{\"fill\":{\"color\":\"#EBF0F8\"},\"line\":{\"color\":\"white\"}},\"header\":{\"fill\":{\"color\":\"#C8D4E3\"},\"line\":{\"color\":\"white\"}},\"type\":\"table\"}],\"barpolar\":[{\"marker\":{\"line\":{\"color\":\"#E5ECF6\",\"width\":0.5},\"pattern\":{\"fillmode\":\"overlay\",\"size\":10,\"solidity\":0.2}},\"type\":\"barpolar\"}],\"pie\":[{\"automargin\":true,\"type\":\"pie\"}]},\"layout\":{\"autotypenumbers\":\"strict\",\"colorway\":[\"#636efa\",\"#EF553B\",\"#00cc96\",\"#ab63fa\",\"#FFA15A\",\"#19d3f3\",\"#FF6692\",\"#B6E880\",\"#FF97FF\",\"#FECB52\"],\"font\":{\"color\":\"#2a3f5f\"},\"hovermode\":\"closest\",\"hoverlabel\":{\"align\":\"left\"},\"paper_bgcolor\":\"white\",\"plot_bgcolor\":\"#E5ECF6\",\"polar\":{\"bgcolor\":\"#E5ECF6\",\"angularaxis\":{\"gridcolor\":\"white\",\"linecolor\":\"white\",\"ticks\":\"\"},\"radialaxis\":{\"gridcolor\":\"white\",\"linecolor\":\"white\",\"ticks\":\"\"}},\"ternary\":{\"bgcolor\":\"#E5ECF6\",\"aaxis\":{\"gridcolor\":\"white\",\"linecolor\":\"white\",\"ticks\":\"\"},\"baxis\":{\"gridcolor\":\"white\",\"linecolor\":\"white\",\"ticks\":\"\"},\"caxis\":{\"gridcolor\":\"white\",\"linecolor\":\"white\",\"ticks\":\"\"}},\"coloraxis\":{\"colorbar\":{\"outlinewidth\":0,\"ticks\":\"\"}},\"colorscale\":{\"sequential\":[[0.0,\"#0d0887\"],[0.1111111111111111,\"#46039f\"],[0.2222222222222222,\"#7201a8\"],[0.3333333333333333,\"#9c179e\"],[0.4444444444444444,\"#bd3786\"],[0.5555555555555556,\"#d8576b\"],[0.6666666666666666,\"#ed7953\"],[0.7777777777777778,\"#fb9f3a\"],[0.8888888888888888,\"#fdca26\"],[1.0,\"#f0f921\"]],\"sequentialminus\":[[0.0,\"#0d0887\"],[0.1111111111111111,\"#46039f\"],[0.2222222222222222,\"#7201a8\"],[0.3333333333333333,\"#9c179e\"],[0.4444444444444444,\"#bd3786\"],[0.5555555555555556,\"#d8576b\"],[0.6666666666666666,\"#ed7953\"],[0.7777777777777778,\"#fb9f3a\"],[0.8888888888888888,\"#fdca26\"],[1.0,\"#f0f921\"]],\"diverging\":[[0,\"#8e0152\"],[0.1,\"#c51b7d\"],[0.2,\"#de77ae\"],[0.3,\"#f1b6da\"],[0.4,\"#fde0ef\"],[0.5,\"#f7f7f7\"],[0.6,\"#e6f5d0\"],[0.7,\"#b8e186\"],[0.8,\"#7fbc41\"],[0.9,\"#4d9221\"],[1,\"#276419\"]]},\"xaxis\":{\"gridcolor\":\"white\",\"linecolor\":\"white\",\"ticks\":\"\",\"title\":{\"standoff\":15},\"zerolinecolor\":\"white\",\"automargin\":true,\"zerolinewidth\":2},\"yaxis\":{\"gridcolor\":\"white\",\"linecolor\":\"white\",\"ticks\":\"\",\"title\":{\"standoff\":15},\"zerolinecolor\":\"white\",\"automargin\":true,\"zerolinewidth\":2},\"scene\":{\"xaxis\":{\"backgroundcolor\":\"#E5ECF6\",\"gridcolor\":\"white\",\"linecolor\":\"white\",\"showbackground\":true,\"ticks\":\"\",\"zerolinecolor\":\"white\",\"gridwidth\":2},\"yaxis\":{\"backgroundcolor\":\"#E5ECF6\",\"gridcolor\":\"white\",\"linecolor\":\"white\",\"showbackground\":true,\"ticks\":\"\",\"zerolinecolor\":\"white\",\"gridwidth\":2},\"zaxis\":{\"backgroundcolor\":\"#E5ECF6\",\"gridcolor\":\"white\",\"linecolor\":\"white\",\"showbackground\":true,\"ticks\":\"\",\"zerolinecolor\":\"white\",\"gridwidth\":2}},\"shapedefaults\":{\"line\":{\"color\":\"#2a3f5f\"}},\"annotationdefaults\":{\"arrowcolor\":\"#2a3f5f\",\"arrowhead\":0,\"arrowwidth\":1},\"geo\":{\"bgcolor\":\"white\",\"landcolor\":\"#E5ECF6\",\"subunitcolor\":\"white\",\"showland\":true,\"showlakes\":true,\"lakecolor\":\"white\"},\"title\":{\"x\":0.05},\"mapbox\":{\"style\":\"light\"}}},\"yaxis2\":{\"anchor\":\"x\",\"overlaying\":\"y\",\"side\":\"right\",\"title\":{\"text\":\"Comparison\"},\"linecolor\":\"#3b0280\",\"showgrid\":false,\"mirror\":true,\"zeroline\":false},\"annotations\":[{\"font\":{\"size\":16},\"showarrow\":false,\"text\":\"\\u003cb\\u003eRMSE\\u003c\\u002fb\\u003e (realized RMSE) vs. \\u003cb\\u003eRMSE\\u003c\\u002fb\\u003e (estimated RMSE)\",\"x\":0.47,\"xanchor\":\"center\",\"xref\":\"paper\",\"y\":1.0,\"yanchor\":\"bottom\",\"yref\":\"paper\"},{\"showarrow\":false,\"text\":\"Reference\",\"x\":\"2016-12-11T12:00:00\",\"xshift\":10,\"y\":1,\"yref\":\"paper\"},{\"showarrow\":false,\"text\":\"Analysis\",\"x\":\"2016-12-23T12:00:00\",\"xshift\":15,\"y\":1,\"yref\":\"paper\"}],\"shapes\":[{\"layer\":\"below\",\"line\":{\"color\":\"#666666\",\"width\":1},\"type\":\"line\",\"x0\":\"2016-12-16T00:00:00\",\"x1\":\"2016-12-16T00:00:00\",\"xref\":\"x\",\"y0\":0,\"y1\":1,\"yref\":\"y domain\"}]},                        {\"responsive\": true}                    ).then(function(){\n",
              "                            \n",
              "var gd = document.getElementById('6b030de7-ee5c-43d2-be75-fdc4cae92a18');\n",
              "var x = new MutationObserver(function (mutations, observer) {{\n",
              "        var display = window.getComputedStyle(gd).display;\n",
              "        if (!display || display === 'none') {{\n",
              "            console.log([gd, 'removed!']);\n",
              "            Plotly.purge(gd);\n",
              "            observer.disconnect();\n",
              "        }}\n",
              "}});\n",
              "\n",
              "// Listen for the removal of the full notebook cells\n",
              "var notebookContainer = gd.closest('#notebook-container');\n",
              "if (notebookContainer) {{\n",
              "    x.observe(notebookContainer, {childList: true});\n",
              "}}\n",
              "\n",
              "// Listen for the clearing of the current output cell\n",
              "var outputEl = gd.closest('.output');\n",
              "if (outputEl) {{\n",
              "    x.observe(outputEl, {childList: true});\n",
              "}}\n",
              "\n",
              "                        })                };                            </script>        </div>\n",
              "</body>\n",
              "</html>"
            ]
          },
          "metadata": {}
        }
      ]
    }
  ]
}